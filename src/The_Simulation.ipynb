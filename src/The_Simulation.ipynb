{
 "cells": [
  {
   "cell_type": "code",
   "execution_count": null,
   "metadata": {},
   "outputs": [],
   "source": [
    "import requests\n",
    "from dotenv import load_dotenv\n",
    "import os\n",
    "import mysql.connector\n",
    "import json\n",
    "import csv\n",
    "import numpy as np\n",
    "import pandas as pd\n",
    "import time\n",
    "import matplotlib.pyplot as plt\n",
    "import constants\n",
    "import driver\n",
    "import importlib\n",
    "import Track_sectors\n",
    "import random\n",
    "import math\n",
    "import pprint\n",
    "from collections import OrderedDict\n",
    "import tkinter as tk\n",
    "import ast\n",
    "%gui tk"
   ]
  },
  {
   "cell_type": "code",
   "execution_count": 344,
   "metadata": {},
   "outputs": [],
   "source": [
    "importlib.reload(driver)\n",
    "importlib.reload(constants)\n",
    "importlib.reload(Track_sectors)\n",
    "from driver import Driver\n",
    "from constants import DB_DRIVER_NAMES, YEARS, TYRE_PARAMS, DEFAULT_BASE_LAP, DRIVER_TYRE_CONSTANTS, DRIVER_CONSTANTS, PREV_RACE_RESULTS\n",
    "from Track_sectors import TRACK_SECTORS"
   ]
  },
  {
   "cell_type": "code",
   "execution_count": 345,
   "metadata": {},
   "outputs": [],
   "source": [
    "quali_df = pd.read_csv('all_quali_data.csv')\n",
    "race_df = pd.read_csv('all_race_data.csv')\n",
    "compounds = [\"soft\", \"medium\", \"hard\"]"
   ]
  },
  {
   "cell_type": "code",
   "execution_count": 346,
   "metadata": {},
   "outputs": [],
   "source": [
    "#This method returns the average pitstop loss for a given race. At the moment it is just the Dutch GP\n",
    "#More will be added later\n",
    "def get_avg_pit_loss():\n",
    "    return float(21.355)"
   ]
  },
  {
   "cell_type": "code",
   "execution_count": 347,
   "metadata": {},
   "outputs": [],
   "source": [
    "def find_driver_list(race):\n",
    "    driver_list = []\n",
    "    for driver_name in DB_DRIVER_NAMES:\n",
    "        if driver_name in PREV_RACE_RESULTS[race]:\n",
    "            driver_list.append(driver_name)\n",
    "    return driver_list\n",
    "\n"
   ]
  },
  {
   "cell_type": "code",
   "execution_count": 348,
   "metadata": {},
   "outputs": [],
   "source": [
    "def get_base_time(race, year, driver):\n",
    "    base_time = (quali_df[(quali_df.year == year) & (quali_df.race_name == f\"{race}\") & (quali_df.driver == f\"{driver}\")])\n",
    "    if base_time.empty:\n",
    "        return DEFAULT_BASE_LAP[f\"{race}\"]\n",
    "    return float(base_time.iloc[0, 3])"
   ]
  },
  {
   "cell_type": "code",
   "execution_count": 349,
   "metadata": {},
   "outputs": [],
   "source": [
    "def get_next_compound(current_compound, num_laps, lap_number):\n",
    "    laps_remaining = num_laps - lap_number\n",
    "    if current_compound == \"soft\":\n",
    "        if laps_remaining > 25:\n",
    "            next_compound = \"hard\"\n",
    "        else:\n",
    "            next_compound = \"medium\"\n",
    "    elif current_compound == \"medium\":\n",
    "        if laps_remaining < 13:\n",
    "            next_compound = \"soft\"\n",
    "        else:\n",
    "            next_compound = \"hard\"\n",
    "    else:\n",
    "        if laps_remaining < 13:\n",
    "            next_compound = \"soft\"\n",
    "        else:\n",
    "            next_compound = \"medium\"\n",
    "    return next_compound"
   ]
  },
  {
   "cell_type": "code",
   "execution_count": 350,
   "metadata": {},
   "outputs": [],
   "source": [
    "def simulate_sector_times(driver, race):\n",
    "    lap_time, sector_times = driver.simulate_sector_times(driver.stint_lap, race)\n",
    "    return lap_time, sector_times"
   ]
  },
  {
   "cell_type": "code",
   "execution_count": 351,
   "metadata": {},
   "outputs": [],
   "source": [
    "def is_DRS_available(gap_to_in_front, lap):\n",
    "    if lap > 3 and gap_to_in_front < 1.0:\n",
    "        return True\n",
    "    else:\n",
    "        return False"
   ]
  },
  {
   "cell_type": "code",
   "execution_count": 352,
   "metadata": {},
   "outputs": [],
   "source": [
    "#Speed is measured in m/s\n",
    "def get_DRS_affect(race, sector_number, sector_time):\n",
    "    sector = TRACK_SECTORS[race][sector_number]\n",
    "    distance = sector['end'] - sector['start']\n",
    "    original_speed = distance / sector_time\n",
    "    drs_speed = original_speed + 3.6\n",
    "    new_sector_time = distance / drs_speed\n",
    "    return new_sector_time"
   ]
  },
  {
   "cell_type": "code",
   "execution_count": 353,
   "metadata": {},
   "outputs": [],
   "source": [
    "def get_slipstream_affect(race, sector_number, sector_time, interval):\n",
    "    sector = TRACK_SECTORS[race][sector_number]\n",
    "    time_loss = 0 \n",
    "    sector_distance = sector[\"end\"] - sector[\"start\"]\n",
    "    if 0 < interval < 1.2:\n",
    "        time_gain = (-0.24 * interval + 0.3) * (sector_distance / 750)\n",
    "        return sector_time - time_gain\n",
    "    else:\n",
    "        return sector_time"
   ]
  },
  {
   "cell_type": "code",
   "execution_count": 354,
   "metadata": {},
   "outputs": [],
   "source": [
    "def get_following_cornering_affect(race, sector_number, sector_time, interval):\n",
    "    if interval < 0:\n",
    "        return sector_time\n",
    "    sector = TRACK_SECTORS[race][sector_number]\n",
    "    b = 0.0015\n",
    "    sector_speed = sector[\"speed\"]\n",
    "    sector_distance = sector[\"end\"] - sector[\"start\"]\n",
    "    gap_effect = (1 / (interval + 0.0001))\n",
    "    if sector_speed == \"fast\":\n",
    "        sector_speed_effect = 0.25\n",
    "    elif sector_speed == \"medium\":\n",
    "        sector_speed_effect = 0.15\n",
    "    else:\n",
    "        sector_speed_effect = 0.1 \n",
    "    sector_distance_effect = math.log(b * sector_distance + 1)\n",
    "    time_loss = gap_effect * sector_speed_effect * sector_distance_effect\n",
    "    if time_loss > 0.6:\n",
    "        time_loss = 0.6\n",
    "    sector_time = float(sector_time) + time_loss\n",
    "    return sector_time"
   ]
  },
  {
   "cell_type": "code",
   "execution_count": null,
   "metadata": {},
   "outputs": [],
   "source": []
  },
  {
   "cell_type": "code",
   "execution_count": 355,
   "metadata": {},
   "outputs": [],
   "source": [
    "def increment_laps(drivers):\n",
    "    for driver in drivers:\n",
    "        driver.current_lap += 1\n",
    "        driver.stint_lap += 1"
   ]
  },
  {
   "cell_type": "code",
   "execution_count": 356,
   "metadata": {},
   "outputs": [],
   "source": [
    "def order_drivers_by_race_time(drivers):\n",
    "    drivers.sort(key=lambda d: d.race_time)\n",
    "    for idx, driver in enumerate(drivers):\n",
    "        driver.position = idx + 1\n",
    "    return drivers"
   ]
  },
  {
   "cell_type": "code",
   "execution_count": 357,
   "metadata": {},
   "outputs": [],
   "source": [
    "def order_drivers_by_position(drivers):\n",
    "    drivers.sort(key=lambda d: d.position)\n",
    "    for idx, driver in enumerate(drivers):\n",
    "        driver.position = idx + 1\n",
    "    return drivers"
   ]
  },
  {
   "cell_type": "code",
   "execution_count": 358,
   "metadata": {},
   "outputs": [],
   "source": [
    "def calculate_gaps_to_in_front(drivers):\n",
    "    for i in range(1, len(drivers)):\n",
    "        interval = drivers[i].race_time - drivers[i-1].race_time\n",
    "        drivers[i].gap_to_in_front = interval"
   ]
  },
  {
   "cell_type": "code",
   "execution_count": 359,
   "metadata": {},
   "outputs": [],
   "source": [
    "def get_tyre_traction_level(compound):\n",
    "    if compound == \"soft\":\n",
    "        return 1.0\n",
    "    elif compound == \"medium\":\n",
    "        return 0.9\n",
    "    else:\n",
    "        return 0.8"
   ]
  },
  {
   "cell_type": "code",
   "execution_count": 360,
   "metadata": {},
   "outputs": [],
   "source": [
    "def calculate_starting_sector(driver):\n",
    "    #This is the average acceleratin of an f1 car\n",
    "    base_acceleration = 10.31630769 \n",
    "    driver_skill = DRIVER_CONSTANTS[driver.driver_id]['starting']\n",
    "    #If the random number is higher than the drivers skill then give them a bad start\n",
    "    if (random.uniform(0, 1.05) > driver_skill):\n",
    "        random_multiplier = random.uniform(0.95, 0.99)\n",
    "        #print(f\"Driver {driver.driver_id} has had a bad start\")\n",
    "        base_acceleration *= random_multiplier\n",
    "    tyre_traction = get_tyre_traction_level(driver.compound)\n",
    "    varied_acceleration = base_acceleration * tyre_traction\n",
    "    sector_time = (((driver.starting_distance * 2)/ varied_acceleration) ** 0.5)\n",
    "    return sector_time"
   ]
  },
  {
   "cell_type": "code",
   "execution_count": 361,
   "metadata": {},
   "outputs": [],
   "source": [
    "def use_best_strategy(best_strategy_dictionary, driver):\n",
    "    starting_tyre = list(best_strategy_dictionary[driver].keys())[0]\n",
    "    return starting_tyre"
   ]
  },
  {
   "cell_type": "code",
   "execution_count": 362,
   "metadata": {},
   "outputs": [],
   "source": [
    "def initialise_starting_variables(race, year, best_strategy):\n",
    "    driver_list = find_driver_list(race)\n",
    "    drivers = []\n",
    "    compounds = [\"soft\", \"medium\", \"hard\"]\n",
    "    for driver_name in driver_list:\n",
    "        if best_strategy == None:\n",
    "            starting_compound = compounds[random.randint(0,2)]\n",
    "        else:\n",
    "            starting_compound = use_best_strategy(best_strategy, driver_name)\n",
    "\n",
    "\n",
    "        drivers.append(Driver(driver_id=driver_name, base_lap_time=get_base_time(race, year, driver_name),\n",
    "                                fuel_level=110, compound= starting_compound,\n",
    "                                race_name = race))\n",
    "    drivers.sort(key= lambda d: d.base_lap_time)\n",
    "    for idx, driver in enumerate(drivers):\n",
    "        driver.position = idx + 1\n",
    "        driver.grid_slot = driver.position\n",
    "        driver.starting_distance = driver.get_starting_distance(race)\n",
    "        driver.starting_sector = calculate_starting_sector(driver)\n",
    "        driver.compounds.append(driver.starting_compound)\n",
    "    number_of_sectors = len(TRACK_SECTORS[race])\n",
    "    return drivers, number_of_sectors"
   ]
  },
  {
   "cell_type": "code",
   "execution_count": 363,
   "metadata": {},
   "outputs": [],
   "source": [
    "def get_overtake_probability(race, sector_number, driver1, driver2):\n",
    "    sector_probability = TRACK_SECTORS[race][sector_number][\"overtake_probability\"]\n",
    "    #Interval is how much ahead the driver is going to be\n",
    "    interval = driver2.race_time - driver1.race_time\n",
    "    interval_factor = min(interval / 0.4, 1)\n",
    "    overtake_probability = sector_probability * interval_factor\n",
    "    return overtake_probability   "
   ]
  },
  {
   "cell_type": "code",
   "execution_count": 364,
   "metadata": {},
   "outputs": [],
   "source": [
    "def calculate_overtakes(drivers, race, sector_number, lap):\n",
    "    for i in range(len(drivers) - 1, 0, -1):\n",
    "        driver = drivers[i]\n",
    "        if driver.position > 1:\n",
    "            while driver.position > 1:\n",
    "                #print(f\"Checking for overtake by {driver.driver_id} in position {driver.position} for the list of drivers that is {len(drivers)} long. \\n the car 2 cars in front is {drivers[driver.position-3].driver_id}\")\n",
    "                driver_in_front = drivers[driver.position - 2]\n",
    "                if driver.race_time < driver_in_front.race_time:\n",
    "                    overtaking_probability = get_overtake_probability(race, sector_number, driver, driver_in_front)\n",
    "                    if random.random() > overtaking_probability:\n",
    "                        #overtake has failed\n",
    "                        failure_penalty = random.uniform(0.2, 0.5)\n",
    "                        driver.race_time = driver_in_front.race_time + failure_penalty\n",
    "                    else:\n",
    "                        driver.position -= 1\n",
    "                        driver.overtakes += 1\n",
    "                        driver_in_front.position += 1\n",
    "                        drivers.sort(key=lambda d: d.position)\n",
    "                else:\n",
    "                    break\n",
    "        else:\n",
    "            break\n",
    "    drivers.sort(key=lambda d: d.position)\n",
    "    return drivers"
   ]
  },
  {
   "cell_type": "code",
   "execution_count": 365,
   "metadata": {},
   "outputs": [],
   "source": [
    "def calculate_pit_stops(drivers, race, lap, num_laps):\n",
    "    if (num_laps - lap) > 10:\n",
    "        for driver in drivers:\n",
    "            if driver.pit_lap:\n",
    "                #print(f\"Driver {driver.driver_id} is pitting from the {driver.compound} to the {get_next_compound(driver.compound, num_laps, lap)} on lap {lap}\")\n",
    "                driver.compound = get_next_compound(driver.compound, num_laps, lap)\n",
    "                driver.compounds.append(driver.compound)\n",
    "                driver.race_time += get_avg_pit_loss()\n",
    "                driver.current_lap_time += get_avg_pit_loss()\n",
    "                driver.stint_lap = 0\n",
    "                driver.pit_laps.append(lap)\n",
    "    drivers.sort(key=lambda d: d.race_time)\n",
    "    return drivers"
   ]
  },
  {
   "cell_type": "code",
   "execution_count": 366,
   "metadata": {},
   "outputs": [],
   "source": [
    "def log_lap_data(drivers):\n",
    "    for driver in drivers:\n",
    "        driver.lap_times.append(driver.current_lap_time)"
   ]
  },
  {
   "cell_type": "code",
   "execution_count": null,
   "metadata": {},
   "outputs": [],
   "source": [
    "def simulate_race(race, year, num_laps, best_strategy):\n",
    "    #Initialise the drivers in their starting order\n",
    "    drivers, number_of_sectors = initialise_starting_variables(race, year, best_strategy)\n",
    "\n",
    "    for lap in range(num_laps):\n",
    "        isolated_sectors = {}\n",
    "        #print(f\"Simulating lap {lap} \\n\")\n",
    "        for driver in drivers:\n",
    "            driver.current_lap += 1\n",
    "            driver.stint_lap += 1\n",
    "            driver.current_lap_time = 0\n",
    "            initial_lap_time, sector_times = simulate_sector_times(driver, race)\n",
    "            isolated_sectors[driver.driver_id] = {\n",
    "                \"lap\": lap,\n",
    "                \"sectors\": sector_times,\n",
    "                \"initial_lap_time\": initial_lap_time\n",
    "            }\n",
    "\n",
    "        for sector_number in range(number_of_sectors):\n",
    "            #print(f\"Simulating sector {sector_number} of lap {lap}\")\n",
    "            calculate_gaps_to_in_front(drivers)\n",
    "            for driver in drivers:\n",
    "                recalculated_sector_time = 0\n",
    "                if (lap == 0 and sector_number == 0):\n",
    "                    driver.current_lap_time += driver.starting_sector\n",
    "                    driver.race_time += driver.starting_sector\n",
    "                else:\n",
    "                    #print(f\"Driver {driver.driver_id} has gap to in front {driver.gap_to_in_front}\")\n",
    "                    current_sector_type = TRACK_SECTORS[race][sector_number][\"type\"]\n",
    "                    isolated_sector_time = isolated_sectors[driver.driver_id]['sectors'][sector_number]\n",
    "\n",
    "                    if current_sector_type == \"straight\":\n",
    "                        drs_sector = TRACK_SECTORS[race][sector_number][\"DRS\"]\n",
    "                        if drs_sector:\n",
    "                            driver.drs = is_DRS_available(driver.gap_to_in_front, lap)\n",
    "                            if driver.drs:\n",
    "                                #print(f\"DRS triggered for {driver.driver_id}\")\n",
    "                                recalculated_sector_time = get_DRS_affect(race, sector_number, isolated_sector_time)\n",
    "                                driver.drs = False\n",
    "                            else:\n",
    "                                recalculated_sector_time = get_slipstream_affect(race, sector_number, isolated_sector_time, driver.gap_to_in_front)\n",
    "                        else:\n",
    "                            recalculated_sector_time = get_slipstream_affect(race, sector_number, isolated_sector_time, driver.gap_to_in_front)\n",
    "                    else:\n",
    "                        #print(\"Calculating cornering affect\")\n",
    "                        recalculated_sector_time = get_following_cornering_affect(race, sector_number, isolated_sector_time, driver.gap_to_in_front)\n",
    "                    #print(f\"Driver {driver.driver_id} has sector {sector_number} time of {recalculated_sector_time} after original sector time of {isolated_sector_time} \\n\")\n",
    "                    driver.current_lap_time += recalculated_sector_time\n",
    "                    driver.race_time += recalculated_sector_time\n",
    "            drivers = calculate_overtakes(drivers, race, sector_number, lap)\n",
    "        drivers = calculate_pit_stops(drivers, race, lap, num_laps)\n",
    "        log_lap_data(drivers)\n",
    "        #print(\"-\" * 50)\n",
    "\n",
    "    return drivers"
   ]
  },
  {
   "cell_type": "code",
   "execution_count": 368,
   "metadata": {},
   "outputs": [],
   "source": [
    "# drivers = simulate_race(\"netherlands\", 2024, 71, None)\n",
    "# for driver in drivers:\n",
    "#     print(driver.driver_id)"
   ]
  },
  {
   "cell_type": "code",
   "execution_count": 369,
   "metadata": {},
   "outputs": [],
   "source": [
    "# for driver in drivers:\n",
    "#     print(driver.driver_id)"
   ]
  },
  {
   "cell_type": "code",
   "execution_count": 370,
   "metadata": {},
   "outputs": [],
   "source": [
    "def write_final_data_to_csv(drivers, simulation_number, file_path):\n",
    "    if drivers:\n",
    "        file_exists = os.path.exists(file_path) and os.path.getsize(file_path) > 0\n",
    "        with open(f'{file_path}', 'a', newline='') as csvfile:\n",
    "            fieldnames = [\"race_number\", \"Driver\", \"starting_position\", \"finishing_position\", \"race_time\", \"strategy\", \"pit_laps\", \"overtakes\", \"number_of_laps_completed\", \"lap_times\"]\n",
    "            writer = csv.DictWriter(csvfile, fieldnames=fieldnames)\n",
    "            if not file_exists:\n",
    "                writer.writeheader()\n",
    "            for driver in drivers:\n",
    "                writer.writerow({\"race_number\": simulation_number, \"Driver\": driver.driver_id, \"starting_position\": driver.grid_slot, \"finishing_position\": driver.position,\n",
    "                                \"race_time\": driver.race_time, \"strategy\": driver.compounds, \"pit_laps\": driver.pit_laps, \"overtakes\": driver.overtakes, \"number_of_laps_completed\": len(driver.lap_times), \"lap_times\": driver.lap_times})"
   ]
  },
  {
   "cell_type": "code",
   "execution_count": 371,
   "metadata": {},
   "outputs": [],
   "source": [
    "driver_list = find_driver_list(\"netherlands\")\n",
    "for i in range (1000):\n",
    "    simulated_order = simulate_race(\"netherlands\", 2024, 71, None)\n",
    "    write_final_data_to_csv(simulated_order, i, 'preliminary_results.csv')"
   ]
  },
  {
   "cell_type": "code",
   "execution_count": 372,
   "metadata": {},
   "outputs": [],
   "source": [
    "preliminary_results_df = pd.read_csv('preliminary_results.csv')\n",
    "def create_results_dictionary():\n",
    "    results = {}\n",
    "    for driver in driver_list:\n",
    "        results[driver] = {}\n",
    "        for compound in compounds:\n",
    "            results[driver][compound] = []\n",
    "\n",
    "    for simulation_number in preliminary_results_df['race_number'].unique():\n",
    "        race_data = preliminary_results_df[preliminary_results_df['race_number']==simulation_number]\n",
    "        for index, row in race_data.iterrows():\n",
    "            driver_name = row['Driver']\n",
    "            used_compounds = ast.literal_eval(row['strategy'])\n",
    "            starting_compound = used_compounds[0]\n",
    "            race_time = row['race_time']\n",
    "            results[driver_name][starting_compound].append(race_time)\n",
    "    return results\n",
    "\n",
    "        "
   ]
  },
  {
   "cell_type": "code",
   "execution_count": 373,
   "metadata": {},
   "outputs": [],
   "source": [
    "def calculate_best_strategy(results):\n",
    "    average_times = {}\n",
    "    best_average_times = {}\n",
    "    sorted_best_average_times = {}\n",
    "    for driver in driver_list:\n",
    "        average_times[driver] = {}\n",
    "        for compound in compounds:\n",
    "            average_time = sum(results[driver][compound]) / len(results[driver][compound])\n",
    "            average_times[driver][compound] = average_time\n",
    "    for driver in average_times:\n",
    "        best_average_times[driver] = {}\n",
    "        best_strategy = min(average_times[driver], key=average_times[driver].get)\n",
    "        best_average_times[driver][best_strategy] = average_times[driver][best_strategy]\n",
    "        sorted_best_average_times = OrderedDict(sorted(best_average_times.items(), key=lambda x: list(x[1].values())[0]))\n",
    "    return sorted_best_average_times"
   ]
  },
  {
   "cell_type": "code",
   "execution_count": 374,
   "metadata": {},
   "outputs": [],
   "source": [
    "results = create_results_dictionary()"
   ]
  },
  {
   "cell_type": "code",
   "execution_count": 375,
   "metadata": {},
   "outputs": [],
   "source": [
    "best_strategy_dictionary = calculate_best_strategy(results)"
   ]
  },
  {
   "cell_type": "code",
   "execution_count": 376,
   "metadata": {},
   "outputs": [],
   "source": [
    "for i in range(20):\n",
    "    optimized_simulated_drivers = simulate_race(\"netherlands\", 2024, 71, best_strategy_dictionary)\n",
    "    write_final_data_to_csv(optimized_simulated_drivers, i, 'final_results.csv')"
   ]
  }
 ],
 "metadata": {
  "kernelspec": {
   "display_name": "Python 3",
   "language": "python",
   "name": "python3"
  },
  "language_info": {
   "codemirror_mode": {
    "name": "ipython",
    "version": 3
   },
   "file_extension": ".py",
   "mimetype": "text/x-python",
   "name": "python",
   "nbconvert_exporter": "python",
   "pygments_lexer": "ipython3",
   "version": "3.12.3"
  }
 },
 "nbformat": 4,
 "nbformat_minor": 2
}
