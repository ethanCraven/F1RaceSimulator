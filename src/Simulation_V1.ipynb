{
 "cells": [
  {
   "cell_type": "code",
   "execution_count": 2,
   "metadata": {},
   "outputs": [],
   "source": [
    "import requests\n",
    "from dotenv import load_dotenv\n",
    "import os\n",
    "import mysql.connector\n",
    "import json\n",
    "import csv\n",
    "import numpy as np\n",
    "import pandas as pd\n",
    "import time\n",
    "import matplotlib.pyplot as plt\n",
    "from constants import DB_DRIVER_NAMES, YEARS, TYRE_PARAMS\n",
    "import driver"
   ]
  },
  {
   "cell_type": "code",
   "execution_count": 3,
   "metadata": {},
   "outputs": [],
   "source": [
    "load_dotenv()\n",
    "\n",
    "db_host = os.getenv('DB_HOST')\n",
    "db_user = os.getenv('DB_USER')\n",
    "db_password = os.getenv('DB_PASSWORD')\n",
    "db_name = os.getenv('DB_NAME')"
   ]
  },
  {
   "cell_type": "code",
   "execution_count": 4,
   "metadata": {},
   "outputs": [
    {
     "name": "stdout",
     "output_type": "stream",
     "text": [
      "      year  race_name            driver  Qualifying_time\n",
      "0     2022    bahrain   charles-leclerc           90.558\n",
      "1     2022    bahrain    max-verstappen           90.681\n",
      "2     2022    bahrain   carlos-sainz-jr           90.687\n",
      "3     2022    bahrain      sergio-perez           90.921\n",
      "4     2022    bahrain    lewis-hamilton           91.238\n",
      "...    ...        ...               ...              ...\n",
      "1281  2024  sao-paulo    lewis-hamilton           91.150\n",
      "1282  2024  sao-paulo    oliver-bearman           91.229\n",
      "1283  2024  sao-paulo  franco-colapinto           91.270\n",
      "1284  2024  sao-paulo   nico-hulkenberg           91.623\n",
      "1285  2024  sao-paulo       guanyu-zhou           92.263\n",
      "\n",
      "[1286 rows x 4 columns]\n"
     ]
    }
   ],
   "source": [
    "quali_df = pd.read_csv('all_quali_data.csv')\n",
    "race_df = pd.read_csv('all_race_data.csv')\n",
    "print(quali_df)"
   ]
  },
  {
   "cell_type": "code",
   "execution_count": 5,
   "metadata": {},
   "outputs": [],
   "source": [
    "#Each lap we call this method to remove X amount of fuel for the lap. This X will change depending on the track.\n",
    "#For now it is Dutch GP which burns 1.49 kg fuel per lap\n",
    "def get_fuel_for_lap(current_fuel):\n",
    "    current_fuel -= 1.49\n",
    "    return current_fuel"
   ]
  },
  {
   "cell_type": "code",
   "execution_count": 6,
   "metadata": {},
   "outputs": [],
   "source": [
    "#fuel level must be in kilograms\n",
    "def fuel_burn_affect(fuel_level):\n",
    "    return fuel_level * 0.03"
   ]
  },
  {
   "cell_type": "code",
   "execution_count": 7,
   "metadata": {},
   "outputs": [],
   "source": [
    "#This method returns the average pitstop loss for a given race. At the moment it is just the Dutch GP\n",
    "#More will be added later\n",
    "def get_avg_pit_loss():\n",
    "    return float(21.355)"
   ]
  },
  {
   "cell_type": "code",
   "execution_count": 8,
   "metadata": {},
   "outputs": [],
   "source": [
    "#Here we retrieve the base lap time which is equivalent to the qualifying time\n",
    "def get_base_time(race, year, driver):\n",
    "    base_time = (quali_df[(quali_df.year == year) & (quali_df.race_name == f\"{race}\") & (quali_df.driver == f\"{driver}\")])\n",
    "    return float(base_time.iloc[0, 3])"
   ]
  },
  {
   "cell_type": "code",
   "execution_count": 9,
   "metadata": {},
   "outputs": [],
   "source": [
    "#This is the function for the basic tyre affect.\n",
    "def get_tyre_affect(lap_number, tyre_compound, race_name):\n",
    "    tyre_affect = 0\n",
    "    params = TYRE_PARAMS[race_name][tyre_compound]\n",
    "    tyre_affect = params[\"base\"] + params[\"linear\"] * lap_number + params[\"quadratic\"] * (lap_number ** 2)\n",
    "    return tyre_affect"
   ]
  },
  {
   "cell_type": "markdown",
   "metadata": {},
   "source": [
    "Choosing when to pit will be crucial in determining realism. The initial way we will do this is to see how much the time has increased over the stint. This will be done by checking the quickest lap time within the first 5 laps and then waiting until the tyre reaches a certain threshold above that."
   ]
  },
  {
   "cell_type": "code",
   "execution_count": 10,
   "metadata": {},
   "outputs": [],
   "source": [
    "#This method is to check weather a pit stop is now a smart option\n",
    "#For the basic implementation we will just assume that if the tyre has started to drop off then a pit stop is needed\n",
    "def time_to_pit(tyre_compound, num_laps, stint_lap, lap_number, lap_time, lap_times):\n",
    "\n",
    "    remaining_laps = num_laps - lap_number\n",
    "\n",
    "    #print(f\"remaining laps: {remaining_laps} \")\n",
    "    if remaining_laps < 0:\n",
    "        return True\n",
    "    elif remaining_laps < 10 or stint_lap < 6:\n",
    "\n",
    "        return False\n",
    "\n",
    "    elif tyre_compound == \"soft\":\n",
    "\n",
    "        for i in range(1, 3):\n",
    "\n",
    "            if(lap_times[i]+ 1 < lap_time):\n",
    "\n",
    "                return True\n",
    "            \n",
    "        return False\n",
    "    \n",
    "    elif tyre_compound == \"medium\":\n",
    "\n",
    "        for i in range(1, 3):\n",
    "\n",
    "            if(lap_times[i]+ 1.9 < lap_time):\n",
    "\n",
    "                return True\n",
    "            \n",
    "        return False\n",
    "    \n",
    "    else:\n",
    "\n",
    "        for i in range(1, 3):\n",
    "\n",
    "            if(lap_times[i]+ 2.3 < lap_time):\n",
    "\n",
    "                return True\n",
    "            \n",
    "        return False"
   ]
  },
  {
   "cell_type": "markdown",
   "metadata": {},
   "source": [
    "This next function will actually simulate the pitstop and change the tyre compound. Later down the line it will also calculate positionally where the driver will come out etc. "
   ]
  },
  {
   "cell_type": "code",
   "execution_count": 11,
   "metadata": {},
   "outputs": [],
   "source": [
    "def simulate_pit_stop(current_compound, num_laps, lap_number):\n",
    "    laps_remaining = num_laps - lap_number\n",
    "    if current_compound == \"soft\":\n",
    "        if laps_remaining > 25:\n",
    "            next_compound = \"hard\"\n",
    "        else:\n",
    "            next_compound = \"medium\"\n",
    "    elif current_compound == \"medium\":\n",
    "        if laps_remaining < 13:\n",
    "            next_compound = \"soft\"\n",
    "        else:\n",
    "            next_compound = \"hard\"\n",
    "    else:\n",
    "        if laps_remaining < 13:\n",
    "            next_compound = \"soft\"\n",
    "        else:\n",
    "            next_compound = \"medium\"\n",
    "    return next_compound"
   ]
  },
  {
   "cell_type": "code",
   "execution_count": 12,
   "metadata": {},
   "outputs": [],
   "source": [
    "def simulate_lap(fuel_level, race, year, driver,  lap_number, compound, base_lap_time):\n",
    "\n",
    "    \n",
    "    fuel_affect = fuel_burn_affect(fuel_level)\n",
    "    tyre_affect = get_tyre_affect(lap_number, compound, race)\n",
    "    \n",
    "    lap_time = base_lap_time + fuel_affect + tyre_affect\n",
    "\n",
    "    return lap_time\n"
   ]
  },
  {
   "cell_type": "code",
   "execution_count": 13,
   "metadata": {},
   "outputs": [],
   "source": [
    "def simulate_stint(fuel_level, num_laps, lap_number, compound, base_lap_time, race, year, driver):\n",
    "\n",
    "    stint_lap = 1\n",
    "    current_fuel = fuel_level\n",
    "    lap_times = []\n",
    "    current_fuel = get_fuel_for_lap(current_fuel)\n",
    "    lap_time = simulate_lap(current_fuel, race, year, driver, stint_lap, compound, base_lap_time)\n",
    "\n",
    "    lap_times.append(lap_time)\n",
    "\n",
    "    while(time_to_pit(compound, num_laps, stint_lap, lap_number, lap_time, lap_times) == False):\n",
    "        current_fuel = get_fuel_for_lap(current_fuel)\n",
    "        \n",
    "        stint_lap += 1\n",
    "\n",
    "        lap_number += 1\n",
    "\n",
    "        #print(f\"lap number: {lap_number}\")\n",
    "\n",
    "        lap_time = simulate_lap(current_fuel, race, year, driver, stint_lap, compound, base_lap_time)\n",
    "\n",
    "        #print(f\"lap time: {lap_time}\")\n",
    "        \n",
    "        lap_times.append(lap_time)\n",
    "        \n",
    "\n",
    "    next_compound = simulate_pit_stop(compound, num_laps, lap_number)\n",
    "\n",
    "    print(f\"pitted on lap: {lap_number} onto compound: {next_compound}\")\n",
    "\n",
    "    lap_number += 1\n",
    "    \n",
    "    return lap_times, lap_number, next_compound, current_fuel"
   ]
  },
  {
   "cell_type": "code",
   "execution_count": 14,
   "metadata": {},
   "outputs": [],
   "source": [
    "def simulate_race(num_laps, starting_compound, fuel_level, race, year, driver):\n",
    "\n",
    "    compound = starting_compound\n",
    "\n",
    "    total_lap_times = []\n",
    "\n",
    "    lap = 1\n",
    "\n",
    "    base_lap_time = get_base_time(race, year, driver)\n",
    "\n",
    "    current_fuel = get_fuel_for_lap(fuel_level)\n",
    "\n",
    "    while(len(total_lap_times) < num_laps):\n",
    "\n",
    "        stint_lap_times, lap, next_compound, current_fuel = simulate_stint(current_fuel, num_laps, lap, compound, base_lap_time, race, year, driver)\n",
    "        compound = next_compound\n",
    "        for i in range(len(stint_lap_times)):\n",
    "\n",
    "            total_lap_times.append(stint_lap_times[i])\n",
    "           \n",
    "        \n",
    "    \n",
    "\n",
    "    return total_lap_times[:num_laps]\n"
   ]
  },
  {
   "cell_type": "markdown",
   "metadata": {},
   "source": [
    "This is the basic simulation. One driver, one race. The dutch grand prix is useful because it is a fairly standard race. One stop and a medium level of tyre degredation. However, we can still see differences in the strategy as if we start on the mediums our race time becomes around 12 seconds quicker in total. That may not seem a lot over a 71 lap race, however it is as in this race 12 seconds was the gap between 2nd and 5th"
   ]
  },
  {
   "cell_type": "code",
   "execution_count": 15,
   "metadata": {},
   "outputs": [
    {
     "name": "stdout",
     "output_type": "stream",
     "text": [
      "pitted on lap: 28 onto compound: hard\n",
      "pitted on lap: 72 onto compound: soft\n",
      "pitted on lap: 47 onto compound: medium\n",
      "pitted on lap: 72 onto compound: soft\n",
      "Total time for starting on the medium: 5519.1377\n",
      "Total time for starting on the hard: 5531.8301\n",
      "Average lap time change for medium: -0.03471267605633809\n"
     ]
    }
   ],
   "source": [
    "#Netherlands Test\n",
    "lap_times_medium = simulate_race(71, \"medium\", 110, \"netherlands\", 2024, \"lando-norris\")\n",
    "total_time_medium = 0 \n",
    "total_time_hard = 0\n",
    "prev_lap = 0\n",
    "changes_med = []\n",
    "for i in range(len(lap_times_medium)):\n",
    "    lap_change = prev_lap - lap_times_medium[i]\n",
    "    if (-12 < lap_change < 7):\n",
    "        changes_med.append(lap_change)\n",
    "    prev_lap = lap_times_medium[i]\n",
    "    total_time_medium = total_time_medium + lap_times_medium[i]\n",
    "lap_times_hard = simulate_race(71, \"hard\", 110, \"netherlands\", 2024, \"lando-norris\")\n",
    "for i in range(len(lap_times_hard)):\n",
    "    total_time_hard = total_time_hard + lap_times_hard[i]\n",
    "print(f\"Total time for starting on the medium: {total_time_medium}\")\n",
    "print(f\"Total time for starting on the hard: {total_time_hard}\")\n",
    "avg_time_change_med = sum(changes_med) / (len(changes_med)+1)\n",
    "print(f\"Average lap time change for medium: {avg_time_change_med}\")"
   ]
  },
  {
   "cell_type": "code",
   "execution_count": 16,
   "metadata": {},
   "outputs": [
    {
     "name": "stdout",
     "output_type": "stream",
     "text": [
      "pitted on lap: 28 onto compound: hard\n",
      "pitted on lap: 72 onto compound: soft\n",
      "76.8891\n",
      "76.8579\n",
      "76.8347\n",
      "76.8195\n",
      "76.81230000000001\n",
      "76.8131\n",
      "76.82190000000001\n",
      "76.8387\n",
      "76.86350000000002\n",
      "76.89630000000001\n",
      "76.9371\n",
      "76.9859\n",
      "77.0427\n",
      "77.10750000000002\n",
      "77.1803\n",
      "77.2611\n",
      "77.3499\n",
      "77.44669999999999\n",
      "77.5515\n",
      "77.6643\n",
      "77.78510000000001\n",
      "77.9139\n",
      "78.0507\n",
      "78.19550000000001\n",
      "78.3483\n",
      "78.5091\n",
      "78.67790000000001\n",
      "78.85470000000001\n",
      "77.6359\n",
      "77.59890000000001\n",
      "77.5657\n",
      "77.5363\n",
      "77.51070000000001\n",
      "77.4889\n",
      "77.47090000000001\n",
      "77.45670000000001\n",
      "77.4463\n",
      "77.4397\n",
      "77.43690000000001\n",
      "77.43790000000001\n",
      "77.4427\n",
      "77.4513\n",
      "77.4637\n",
      "77.4799\n",
      "77.49990000000001\n",
      "77.5237\n",
      "77.55130000000001\n",
      "77.5827\n",
      "77.6179\n",
      "77.65690000000001\n",
      "77.6997\n",
      "77.7463\n",
      "77.7967\n",
      "77.8509\n",
      "77.9089\n",
      "77.9707\n",
      "78.03630000000001\n",
      "78.1057\n",
      "78.17890000000001\n",
      "78.25590000000001\n",
      "78.3367\n",
      "78.4213\n",
      "78.50970000000001\n",
      "78.60190000000001\n",
      "78.6979\n",
      "78.7977\n",
      "78.9013\n",
      "79.0087\n",
      "79.1199\n",
      "79.2349\n",
      "79.3537\n",
      "5519.1377\n"
     ]
    }
   ],
   "source": [
    "#Japan Test\n",
    "lap_times_medium = simulate_race(71, \"medium\", 110, \"netherlands\", 2024, \"lando-norris\")\n",
    "for i in range(len(lap_times_medium)):\n",
    "    print(lap_times_medium[i])\n",
    "print(sum(lap_times_medium))"
   ]
  }
 ],
 "metadata": {
  "kernelspec": {
   "display_name": "Python 3",
   "language": "python",
   "name": "python3"
  },
  "language_info": {
   "codemirror_mode": {
    "name": "ipython",
    "version": 3
   },
   "file_extension": ".py",
   "mimetype": "text/x-python",
   "name": "python",
   "nbconvert_exporter": "python",
   "pygments_lexer": "ipython3",
   "version": "3.12.3"
  }
 },
 "nbformat": 4,
 "nbformat_minor": 2
}
