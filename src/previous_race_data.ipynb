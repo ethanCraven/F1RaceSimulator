{
 "cells": [
  {
   "cell_type": "code",
   "execution_count": null,
   "metadata": {},
   "outputs": [],
   "source": [
    "import requests\n",
    "from dotenv import load_dotenv\n",
    "import os\n",
    "import mysql.connector\n",
    "import json\n",
    "import csv\n",
    "import time"
   ]
  },
  {
   "cell_type": "code",
   "execution_count": 44,
   "metadata": {},
   "outputs": [],
   "source": [
    "load_dotenv()\n",
    "\n",
    "db_host = os.getenv('DB_HOST')\n",
    "db_user = os.getenv('DB_USER')\n",
    "db_password = os.getenv('DB_PASSWORD')\n",
    "db_name = os.getenv('DB_NAME')"
   ]
  },
  {
   "cell_type": "code",
   "execution_count": null,
   "metadata": {},
   "outputs": [],
   "source": [
    "\n",
    "api_calls = 0\n",
    "def api_increment():\n",
    "    global api_calls\n",
    "    api_calls = api_calls + 1"
   ]
  },
  {
   "cell_type": "code",
   "execution_count": null,
   "metadata": {},
   "outputs": [],
   "source": [
    "#Finds the number of rounds in a given season\n",
    "\n",
    "def get_number_of_rounds(year):\n",
    "    url = f\"http://localhost:8000/ergast/f1/{year}.json\"\n",
    "    api_increment()\n",
    "    response = requests.get(url)\n",
    "    data = response.json()\n",
    "    mr_data = data[\"MRData\"]\n",
    "    number_of_rounds = mr_data[\"total\"]\n",
    "    return int(number_of_rounds)\n",
    "    "
   ]
  },
  {
   "cell_type": "code",
   "execution_count": null,
   "metadata": {},
   "outputs": [],
   "source": [
    "\n",
    "#Finds the race name for the given round\n",
    "def get_race_name(round_number, year):\n",
    "    url = f\"http://localhost:8000/ergast/f1/{year}/{round_number}.json\"\n",
    "    api_increment()\n",
    "    response = requests.get(url)\n",
    "    data = response.json()\n",
    "    print(data)\n",
    "    race_data = data[\"MRData\"][\"RaceTable\"][\"Races\"]\n",
    "    print(race_data)\n",
    "    race_name = race_data[0][\"raceName\"]\n",
    "    print(race_name)\n",
    "    return(race_name)"
   ]
  },
  {
   "cell_type": "code",
   "execution_count": 48,
   "metadata": {},
   "outputs": [],
   "source": [
    "#Converts the name from api output to the format that the database needs\n",
    "def api_name_to_db_name(race_name):\n",
    "    race_name_map = {\n",
    "        \"Bahrain Grand Prix\": \"bahrain\",\n",
    "        \"Saudi Arabian Grand Prix\": \"saudi-arabia\",\n",
    "        \"Australian Grand Prix\": \"australia\",\n",
    "        \"Japanese Grand Prix\": \"japan\",\n",
    "        \"Chinese Grand Prix\": \"china\",\n",
    "        \"Miami Grand Prix\": \"miami\",\n",
    "        \"Emilia Romagna Grand Prix\": \"emilia-romagna\",\n",
    "        \"Monaco Grand Prix\": \"monaco\",\n",
    "        \"Canadian Grand Prix\": \"canada\",\n",
    "        \"Spanish Grand Prix\": \"spain\",\n",
    "        \"Austrian Grand Prix\": \"austria\",\n",
    "        \"British Grand Prix\": \"great-britain\",\n",
    "        \"Hungarian Grand Prix\": \"hungary\",\n",
    "        \"Belgian Grand Prix\": \"belgium\",\n",
    "        \"Dutch Grand Prix\": \"netherlands\",\n",
    "        \"Italian Grand Prix\": \"italy\",\n",
    "        \"Azerbaijan Grand Prix\": \"azerbaijan\",\n",
    "        \"Singapore Grand Prix\": \"singapore\",\n",
    "        \"United States Grand Prix\": \"united-states\",\n",
    "        \"Mexico City Grand Prix\": \"mexico\",\n",
    "        \"São Paulo Grand Prix\": \"sao-paulo\",\n",
    "        \"Las Vegas Grand Prix\": \"las-vegas\",\n",
    "        \"Qatar Grand Prix\": \"qatar\",\n",
    "        \"Abu Dhabi Grand Prix\": \"abu-dhabi\",\n",
    "    }\n",
    "    return race_name_map.get(race_name, f\"Error: '{race_name}' not found.\")"
   ]
  },
  {
   "cell_type": "code",
   "execution_count": 49,
   "metadata": {},
   "outputs": [],
   "source": [
    "def db_driver_name_to_api_name(name):\n",
    "    driver_name_map = {    \n",
    "    \"carlos-sainz-jr\": \"sainz\",\n",
    "    \"alexander-albon\": \"albon\",\n",
    "    \"charles-leclerc\": \"leclerc\",\n",
    "    \"daniel-ricciardo\": \"ricciardo\",\n",
    "    \"fernando-alonso\": \"alonso\",\n",
    "    \"franco-colapinto\": \"colapinto\",\n",
    "    \"george-russell\": \"russell\",\n",
    "    \"guanyu-zhou\": \"zhou\",\n",
    "    \"kevin-magnussen\": \"magnussen\",\n",
    "    \"lance-stroll\": \"stroll\",\n",
    "    \"lando-norris\": \"norris\",\n",
    "    \"lewis-hamilton\": \"hamilton\",\n",
    "    \"liam-lawson\": \"lawson\",\n",
    "    \"logan-sargeant\": \"sargeant\",\n",
    "    \"max-verstappen\": \"max_verstappen\",\n",
    "    \"nico-hulkenberg\": \"hulkenberg\",\n",
    "    \"oscar-piastri\": \"piastri\",\n",
    "    \"pierre-gasly\": \"gasly\",\n",
    "    \"sergio-perez\": \"perez\",\n",
    "    \"valtteri-bottas\": \"bottas\",\n",
    "    \"yuki-tsunoda\": \"tsunoda\",\n",
    "    }\n",
    "    return driver_name_map.get(name, f\"Error: '{name}' not found.\")"
   ]
  },
  {
   "cell_type": "code",
   "execution_count": 50,
   "metadata": {},
   "outputs": [],
   "source": [
    "#Finds the number of laps for a specific race\n",
    "def get_number_laps(race, year):\n",
    "    connection = mysql.connector.connect(\n",
    "        host=db_host,\n",
    "        user =db_user,\n",
    "        password = db_password,\n",
    "        database = db_name,\n",
    "        use_pure=True,\n",
    "        ssl_disabled=True\n",
    "    )\n",
    "\n",
    "    mycursor = connection.cursor()\n",
    "\n",
    "    mycursor.execute(f\"select laps from race where grand_prix_id = '{race}' and year = '{year}'\")\n",
    "    tuple_laps = mycursor.fetchall()\n",
    "    laps = tuple_laps[0][0]\n",
    "    return laps"
   ]
  },
  {
   "cell_type": "code",
   "execution_count": 51,
   "metadata": {},
   "outputs": [],
   "source": [
    "#Collects the distance and the course length for a specific race\n",
    "def get_race_distance(race, year):\n",
    "    connection = mysql.connector.connect(\n",
    "        host=db_host,\n",
    "        user =db_user,\n",
    "        password = db_password,\n",
    "        database = db_name,\n",
    "        use_pure=True,\n",
    "        ssl_disabled=True\n",
    "    )\n",
    "\n",
    "    mycursor = connection.cursor()\n",
    "\n",
    "    mycursor.execute(f\"select course_length, distance from race where grand_prix_id = '{race}' and year = '{year}'\")\n",
    "    tuple_length = mycursor.fetchall()\n",
    "    course_length = tuple_length[0][0]\n",
    "    distance = tuple_length[0][1]\n",
    "    return course_length, distance"
   ]
  },
  {
   "cell_type": "code",
   "execution_count": 52,
   "metadata": {},
   "outputs": [],
   "source": [
    "#Retrieves the Qualifying time for a specific driver at a specific race\n",
    "def get_quali_time(year, race, driver):\n",
    "    connection = mysql.connector.connect(\n",
    "        host=db_host,\n",
    "        user =db_user,\n",
    "        password = db_password,\n",
    "        database = db_name,\n",
    "        use_pure=True,\n",
    "        ssl_disabled=True\n",
    "    )\n",
    "\n",
    "    mycursor = connection.cursor()\n",
    "\n",
    "    mycursor.execute(f\"select id from race where grand_prix_id = '{race}' and year = '{year}'\")\n",
    "    race_id_tuple = mycursor.fetchall()\n",
    "    race_id = race_id_tuple[0][0]\n",
    "\n",
    "\n",
    "\n",
    "    mycursor.execute(f\"select q1_millis, q2_millis, q3_millis from qualifying_result where race_id = '{race_id}' and driver_id = '{driver}'\")\n",
    "    quali_tuple = mycursor.fetchall()\n",
    "    if not quali_tuple:\n",
    "        print(f\"No quali data found for {driver} in {race}, {year}\")\n",
    "        return None\n",
    "    q1_time = quali_tuple[0][0]\n",
    "    q2_time = quali_tuple[0][1]\n",
    "    q3_time = quali_tuple[0][2]\n",
    "    if q2_time == None:\n",
    "        return q1_time/1000\n",
    "    elif q3_time == None:\n",
    "        return q2_time/1000\n",
    "    else:\n",
    "        return q3_time/1000\n"
   ]
  },
  {
   "cell_type": "code",
   "execution_count": 53,
   "metadata": {},
   "outputs": [],
   "source": [
    "#Converts time from minutes to seconds\n",
    "#Used for the lap time\n",
    "def time_to_seconds(t):\n",
    "    minutes, seconds = t.split(':')\n",
    "    seconds = float(seconds)\n",
    "    return int(minutes) * 60 + seconds"
   ]
  },
  {
   "cell_type": "code",
   "execution_count": null,
   "metadata": {},
   "outputs": [],
   "source": [
    "#Gets the lap data for a driver on a specific race\n",
    "def get_lap_data(race, year, laps):\n",
    "    offset=0\n",
    "    race_data = []\n",
    "    for i in range(1, (laps//5)+1):\n",
    "        print(f\"Lap {i}\")\n",
    "        url = f\"http://localhost:8000/ergast/f1/{year}/{race}/laps.json?offset={offset}&limit=100\"\n",
    "        response = requests.get(url)\n",
    "        \n",
    "        if response.status_code != 200:\n",
    "            print(f\"Error: Failed to retrieve data for lap {i}\")\n",
    "            continue\n",
    "\n",
    "        data = response.json()\n",
    "        print(data)\n",
    "        try:\n",
    "            races = data[\"MRData\"][\"RaceTable\"][\"Races\"]\n",
    "            grand_prix_name = races[0][\"raceName\"]\n",
    "            print(grand_prix_name)\n",
    "            for lap in races[0][\"Laps\"]:\n",
    "                lap_number = lap[\"number\"]\n",
    "                for timing in lap[\"Timings\"]:\n",
    "                    driver_id = timing[\"driverId\"]\n",
    "                    position = timing[\"position\"]\n",
    "                    lap_time = time_to_seconds(timing[\"time\"])\n",
    "                    \n",
    "                    race_data.append({\n",
    "                        \"year\": year,\n",
    "                        \"race_name\": grand_prix_name,\n",
    "                        \"lap_number\": lap_number,\n",
    "                        \"driver_id\": driver_id,\n",
    "                        \"position\": position,\n",
    "                        \"lap_time\": lap_time\n",
    "                    })\n",
    "        except (KeyError, IndexError) as e:\n",
    "            print(e)\n",
    "        offset = offset + 100\n",
    "        #The method must sleep to avoid Error 429.\n",
    "        time.sleep(5)\n",
    "    return race_data"
   ]
  },
  {
   "cell_type": "code",
   "execution_count": 56,
   "metadata": {},
   "outputs": [],
   "source": [
    "#Writes all the lap data to a csv file for better storage\n",
    "def write_to_csv(race_data):\n",
    "    if race_data:     \n",
    "        with open('all_race_data.csv', 'a', newline='') as csvfile:\n",
    "            fieldnames = race_data[0].keys()\n",
    "            writer = csv.DictWriter(csvfile, fieldnames=fieldnames)\n",
    "            #writer.writeheader()\n",
    "            writer.writerows(race_data)\n",
    "        print(\"Data written\")\n",
    "    else:\n",
    "        print(\"No data available\")\n",
    "        "
   ]
  },
  {
   "cell_type": "code",
   "execution_count": null,
   "metadata": {},
   "outputs": [],
   "source": [
    "#Method that gets and writes all the needed data to the csv file\n",
    "def get_data(round, year):\n",
    "    race_name = get_race_name(round, year)\n",
    "    print(race_name, year)\n",
    "    db_race_name = api_name_to_db_name(race_name)\n",
    "    num_laps = get_number_laps(db_race_name, year)\n",
    "    print(num_laps)\n",
    "    race_data = get_lap_data(round, year, num_laps)\n",
    "    write_to_csv(race_data)"
   ]
  },
  {
   "cell_type": "code",
   "execution_count": 58,
   "metadata": {},
   "outputs": [],
   "source": [
    "#Converts time from seconds to minutes\n",
    "def seconds_to_minutes(s):\n",
    "    minutes = s // 60\n",
    "    remaining_seconds = s % 60\n",
    "    return f\"{minutes}:{remaining_seconds}\"\n"
   ]
  },
  {
   "cell_type": "code",
   "execution_count": null,
   "metadata": {},
   "outputs": [],
   "source": [
    "# year = 2024\n",
    "# #for year in YEARS:\n",
    "# rounds = get_number_of_rounds(year)\n",
    "# for round in range(1, rounds+1):\n",
    "#     print(f\"Processing round: {round} for year: {year}\")\n",
    "#     print(round)\n",
    "#     for driver in DRIVER_NAMES:\n",
    "#         get_data(driver, round, year)\n",
    "#         time.sleep(5)\n",
    "#     time.sleep(10)\n",
    "# time.sleep(30)\n",
    "\n",
    "# print(\"done\")"
   ]
  },
  {
   "cell_type": "code",
   "execution_count": 60,
   "metadata": {},
   "outputs": [
    {
     "name": "stdout",
     "output_type": "stream",
     "text": [
      "{'MRData': {'xmlns': '', 'series': 'f1', 'url': 'http://localhost:8000/ergast/f1/2024/17//laps.json', 'limit': '100', 'offset': '0', 'total': '971', 'RaceTable': {'season': '2024', 'round': '17', 'Races': [{'season': '2024', 'round': '17', 'url': 'https://en.wikipedia.org/wiki/2024_Azerbaijan_Grand_Prix', 'raceName': 'Azerbaijan Grand Prix', 'Circuit': {'circuitId': 'baku', 'url': 'http://en.wikipedia.org/wiki/Baku_City_Circuit', 'circuitName': 'Baku City Circuit', 'Location': {'lat': '40.3725', 'long': '49.8533', 'locality': 'Baku', 'country': 'Azerbaijan'}}, 'date': '2024-09-15', 'time': '11:00:00Z', 'Laps': [{'number': '1', 'Timings': [{'driverId': 'leclerc', 'position': '1', 'time': '1:52.106'}, {'driverId': 'piastri', 'position': '2', 'time': '1:52.903'}, {'driverId': 'perez', 'position': '3', 'time': '1:53.923'}, {'driverId': 'sainz', 'position': '4', 'time': '1:54.797'}, {'driverId': 'max_verstappen', 'position': '5', 'time': '1:55.490'}, {'driverId': 'russell', 'position': '6', 'time': '1:56.420'}, {'driverId': 'alonso', 'position': '7', 'time': '1:57.400'}, {'driverId': 'colapinto', 'position': '8', 'time': '1:58.293'}, {'driverId': 'albon', 'position': '9', 'time': '1:59.047'}, {'driverId': 'bearman', 'position': '10', 'time': '2:00.008'}, {'driverId': 'tsunoda', 'position': '11', 'time': '2:03.649'}, {'driverId': 'norris', 'position': '12', 'time': '2:03.761'}, {'driverId': 'hulkenberg', 'position': '13', 'time': '2:03.833'}, {'driverId': 'ricciardo', 'position': '14', 'time': '2:03.929'}, {'driverId': 'gasly', 'position': '15', 'time': '2:04.448'}, {'driverId': 'bottas', 'position': '16', 'time': '2:04.469'}, {'driverId': 'hamilton', 'position': '17', 'time': '2:05.704'}, {'driverId': 'zhou', 'position': '18', 'time': '2:05.800'}, {'driverId': 'ocon', 'position': '19', 'time': '2:06.969'}, {'driverId': 'stroll', 'position': '20', 'time': '2:11.014'}]}, {'number': '2', 'Timings': [{'driverId': 'leclerc', 'position': '1', 'time': '1:49.283'}, {'driverId': 'piastri', 'position': '2', 'time': '1:48.944'}, {'driverId': 'perez', 'position': '3', 'time': '1:49.236'}, {'driverId': 'sainz', 'position': '4', 'time': '1:49.120'}, {'driverId': 'max_verstappen', 'position': '5', 'time': '1:49.632'}, {'driverId': 'russell', 'position': '6', 'time': '1:49.738'}, {'driverId': 'alonso', 'position': '7', 'time': '1:50.081'}, {'driverId': 'colapinto', 'position': '8', 'time': '1:50.410'}, {'driverId': 'albon', 'position': '9', 'time': '1:50.846'}, {'driverId': 'bearman', 'position': '10', 'time': '1:50.738'}, {'driverId': 'tsunoda', 'position': '11', 'time': '1:51.648'}, {'driverId': 'norris', 'position': '12', 'time': '1:51.638'}, {'driverId': 'hulkenberg', 'position': '13', 'time': '1:52.034'}, {'driverId': 'ricciardo', 'position': '14', 'time': '1:52.896'}, {'driverId': 'gasly', 'position': '15', 'time': '1:52.861'}, {'driverId': 'hamilton', 'position': '16', 'time': '1:52.922'}, {'driverId': 'bottas', 'position': '17', 'time': '1:54.291'}, {'driverId': 'zhou', 'position': '18', 'time': '1:53.999'}, {'driverId': 'ocon', 'position': '19', 'time': '1:53.518'}, {'driverId': 'stroll', 'position': '20', 'time': '2:08.417'}]}, {'number': '3', 'Timings': [{'driverId': 'leclerc', 'position': '1', 'time': '1:48.412'}, {'driverId': 'piastri', 'position': '2', 'time': '1:48.811'}, {'driverId': 'perez', 'position': '3', 'time': '1:48.814'}, {'driverId': 'sainz', 'position': '4', 'time': '1:49.375'}, {'driverId': 'max_verstappen', 'position': '5', 'time': '1:49.130'}, {'driverId': 'russell', 'position': '6', 'time': '1:49.359'}, {'driverId': 'alonso', 'position': '7', 'time': '1:50.262'}, {'driverId': 'colapinto', 'position': '8', 'time': '1:50.414'}, {'driverId': 'albon', 'position': '9', 'time': '1:50.457'}, {'driverId': 'bearman', 'position': '10', 'time': '1:50.677'}, {'driverId': 'norris', 'position': '11', 'time': '1:50.219'}, {'driverId': 'hulkenberg', 'position': '12', 'time': '1:50.450'}, {'driverId': 'ricciardo', 'position': '13', 'time': '1:51.710'}, {'driverId': 'tsunoda', 'position': '14', 'time': '1:53.328'}, {'driverId': 'gasly', 'position': '15', 'time': '1:51.565'}, {'driverId': 'hamilton', 'position': '16', 'time': '1:50.970'}, {'driverId': 'bottas', 'position': '17', 'time': '1:52.710'}, {'driverId': 'zhou', 'position': '18', 'time': '1:52.110'}, {'driverId': 'ocon', 'position': '19', 'time': '1:52.028'}, {'driverId': 'stroll', 'position': '20', 'time': '1:50.819'}]}, {'number': '4', 'Timings': [{'driverId': 'leclerc', 'position': '1', 'time': '1:48.408'}, {'driverId': 'piastri', 'position': '2', 'time': '1:48.408'}, {'driverId': 'perez', 'position': '3', 'time': '1:48.727'}, {'driverId': 'sainz', 'position': '4', 'time': '1:49.167'}, {'driverId': 'max_verstappen', 'position': '5', 'time': '1:49.608'}, {'driverId': 'russell', 'position': '6', 'time': '1:49.199'}, {'driverId': 'alonso', 'position': '7', 'time': '1:49.975'}, {'driverId': 'colapinto', 'position': '8', 'time': '1:49.916'}, {'driverId': 'albon', 'position': '9', 'time': '1:50.185'}, {'driverId': 'bearman', 'position': '10', 'time': '1:50.282'}, {'driverId': 'norris', 'position': '11', 'time': '1:49.767'}, {'driverId': 'hulkenberg', 'position': '12', 'time': '1:50.277'}, {'driverId': 'ricciardo', 'position': '13', 'time': '1:49.436'}, {'driverId': 'gasly', 'position': '14', 'time': '1:49.849'}, {'driverId': 'hamilton', 'position': '15', 'time': '1:50.351'}, {'driverId': 'tsunoda', 'position': '16', 'time': '1:53.997'}, {'driverId': 'bottas', 'position': '17', 'time': '1:51.585'}, {'driverId': 'zhou', 'position': '18', 'time': '1:51.671'}, {'driverId': 'ocon', 'position': '19', 'time': '1:51.514'}, {'driverId': 'stroll', 'position': '20', 'time': '1:50.480'}]}, {'number': '5', 'Timings': [{'driverId': 'leclerc', 'position': '1', 'time': '1:48.314'}, {'driverId': 'piastri', 'position': '2', 'time': '1:48.070'}, {'driverId': 'perez', 'position': '3', 'time': '1:48.768'}, {'driverId': 'sainz', 'position': '4', 'time': '1:49.039'}, {'driverId': 'max_verstappen', 'position': '5', 'time': '1:49.245'}, {'driverId': 'russell', 'position': '6', 'time': '1:48.952'}, {'driverId': 'alonso', 'position': '7', 'time': '1:50.103'}, {'driverId': 'colapinto', 'position': '8', 'time': '1:50.137'}, {'driverId': 'albon', 'position': '9', 'time': '1:49.780'}, {'driverId': 'bearman', 'position': '10', 'time': '1:50.510'}, {'driverId': 'norris', 'position': '11', 'time': '1:49.386'}, {'driverId': 'hulkenberg', 'position': '12', 'time': '1:49.113'}, {'driverId': 'ricciardo', 'position': '13', 'time': '1:49.690'}, {'driverId': 'gasly', 'position': '14', 'time': '1:50.116'}, {'driverId': 'hamilton', 'position': '15', 'time': '1:50.358'}, {'driverId': 'tsunoda', 'position': '16', 'time': '1:53.121'}, {'driverId': 'bottas', 'position': '17', 'time': '1:53.313'}, {'driverId': 'zhou', 'position': '18', 'time': '1:53.333'}, {'driverId': 'ocon', 'position': '19', 'time': '1:53.318'}, {'driverId': 'stroll', 'position': '20', 'time': '1:49.970'}]}]}]}}}\n"
     ]
    }
   ],
   "source": [
    "url = \"http://localhost:8000/ergast/f1/2024/17//laps.json?limit=100\"\n",
    "response = requests.get(url)\n",
    "data = response.json()\n",
    "print(data)"
   ]
  },
  {
   "cell_type": "code",
   "execution_count": 61,
   "metadata": {},
   "outputs": [
    {
     "name": "stdout",
     "output_type": "stream",
     "text": [
      "{'MRData': {'xmlns': '', 'series': 'f1', 'url': 'http://localhost:8000/ergast/f1/2024/22.json', 'limit': '30', 'offset': '0', 'total': '1', 'RaceTable': {'season': '2024', 'round': '22', 'Races': [{'season': '2024', 'round': '22', 'url': 'https://en.wikipedia.org/wiki/2024_Las_Vegas_Grand_Prix', 'raceName': 'Las Vegas Grand Prix', 'Circuit': {'circuitId': 'vegas', 'url': 'https://en.wikipedia.org/wiki/Las_Vegas_Grand_Prix#Circuit', 'circuitName': 'Las Vegas Strip Street Circuit', 'Location': {'lat': '36.1147', 'long': '-115.173', 'locality': 'Las Vegas', 'country': 'United States'}}, 'date': '2024-11-23', 'time': '06:00:00Z', 'FirstPractice': {'date': '2024-11-21', 'time': '02:30:00Z'}, 'SecondPractice': {'date': '2024-11-21', 'time': '06:00:00Z'}, 'ThirdPractice': {'date': '2024-11-22', 'time': '02:30:00Z'}, 'Qualifying': {'date': '2024-11-22', 'time': '06:00:00Z'}}]}}}\n",
      "[{'season': '2024', 'round': '22', 'url': 'https://en.wikipedia.org/wiki/2024_Las_Vegas_Grand_Prix', 'raceName': 'Las Vegas Grand Prix', 'Circuit': {'circuitId': 'vegas', 'url': 'https://en.wikipedia.org/wiki/Las_Vegas_Grand_Prix#Circuit', 'circuitName': 'Las Vegas Strip Street Circuit', 'Location': {'lat': '36.1147', 'long': '-115.173', 'locality': 'Las Vegas', 'country': 'United States'}}, 'date': '2024-11-23', 'time': '06:00:00Z', 'FirstPractice': {'date': '2024-11-21', 'time': '02:30:00Z'}, 'SecondPractice': {'date': '2024-11-21', 'time': '06:00:00Z'}, 'ThirdPractice': {'date': '2024-11-22', 'time': '02:30:00Z'}, 'Qualifying': {'date': '2024-11-22', 'time': '06:00:00Z'}}]\n",
      "Las Vegas Grand Prix\n",
      "Las Vegas Grand Prix 2024\n",
      "50\n",
      "Lap 1\n"
     ]
    },
    {
     "ename": "ConnectionError",
     "evalue": "HTTPConnectionPool(host='api.lopi.ca', port=80): Max retries exceeded with url: /ergast/f1/2024/22/laps.json?offset=0&limit=100 (Caused by NameResolutionError(\"<urllib3.connection.HTTPConnection object at 0x7f6b67355e80>: Failed to resolve 'api.lopi.ca' ([Errno -2] Name or service not known)\"))",
     "output_type": "error",
     "traceback": [
      "\u001b[0;31m---------------------------------------------------------------------------\u001b[0m",
      "\u001b[0;31mgaierror\u001b[0m                                  Traceback (most recent call last)",
      "File \u001b[0;32m/usr/lib/python3/dist-packages/urllib3/connection.py:203\u001b[0m, in \u001b[0;36mHTTPConnection._new_conn\u001b[0;34m(self)\u001b[0m\n\u001b[1;32m    202\u001b[0m \u001b[38;5;28;01mtry\u001b[39;00m:\n\u001b[0;32m--> 203\u001b[0m     sock \u001b[38;5;241m=\u001b[39m \u001b[43mconnection\u001b[49m\u001b[38;5;241;43m.\u001b[39;49m\u001b[43mcreate_connection\u001b[49m\u001b[43m(\u001b[49m\n\u001b[1;32m    204\u001b[0m \u001b[43m        \u001b[49m\u001b[43m(\u001b[49m\u001b[38;5;28;43mself\u001b[39;49m\u001b[38;5;241;43m.\u001b[39;49m\u001b[43m_dns_host\u001b[49m\u001b[43m,\u001b[49m\u001b[43m \u001b[49m\u001b[38;5;28;43mself\u001b[39;49m\u001b[38;5;241;43m.\u001b[39;49m\u001b[43mport\u001b[49m\u001b[43m)\u001b[49m\u001b[43m,\u001b[49m\n\u001b[1;32m    205\u001b[0m \u001b[43m        \u001b[49m\u001b[38;5;28;43mself\u001b[39;49m\u001b[38;5;241;43m.\u001b[39;49m\u001b[43mtimeout\u001b[49m\u001b[43m,\u001b[49m\n\u001b[1;32m    206\u001b[0m \u001b[43m        \u001b[49m\u001b[43msource_address\u001b[49m\u001b[38;5;241;43m=\u001b[39;49m\u001b[38;5;28;43mself\u001b[39;49m\u001b[38;5;241;43m.\u001b[39;49m\u001b[43msource_address\u001b[49m\u001b[43m,\u001b[49m\n\u001b[1;32m    207\u001b[0m \u001b[43m        \u001b[49m\u001b[43msocket_options\u001b[49m\u001b[38;5;241;43m=\u001b[39;49m\u001b[38;5;28;43mself\u001b[39;49m\u001b[38;5;241;43m.\u001b[39;49m\u001b[43msocket_options\u001b[49m\u001b[43m,\u001b[49m\n\u001b[1;32m    208\u001b[0m \u001b[43m    \u001b[49m\u001b[43m)\u001b[49m\n\u001b[1;32m    209\u001b[0m \u001b[38;5;28;01mexcept\u001b[39;00m socket\u001b[38;5;241m.\u001b[39mgaierror \u001b[38;5;28;01mas\u001b[39;00m e:\n",
      "File \u001b[0;32m/usr/lib/python3/dist-packages/urllib3/util/connection.py:60\u001b[0m, in \u001b[0;36mcreate_connection\u001b[0;34m(address, timeout, source_address, socket_options)\u001b[0m\n\u001b[1;32m     58\u001b[0m     \u001b[38;5;28;01mraise\u001b[39;00m LocationParseError(\u001b[38;5;124mf\u001b[39m\u001b[38;5;124m\"\u001b[39m\u001b[38;5;124m'\u001b[39m\u001b[38;5;132;01m{\u001b[39;00mhost\u001b[38;5;132;01m}\u001b[39;00m\u001b[38;5;124m'\u001b[39m\u001b[38;5;124m, label empty or too long\u001b[39m\u001b[38;5;124m\"\u001b[39m) \u001b[38;5;28;01mfrom\u001b[39;00m \u001b[38;5;28;01mNone\u001b[39;00m\n\u001b[0;32m---> 60\u001b[0m \u001b[38;5;28;01mfor\u001b[39;00m res \u001b[38;5;129;01min\u001b[39;00m \u001b[43msocket\u001b[49m\u001b[38;5;241;43m.\u001b[39;49m\u001b[43mgetaddrinfo\u001b[49m\u001b[43m(\u001b[49m\u001b[43mhost\u001b[49m\u001b[43m,\u001b[49m\u001b[43m \u001b[49m\u001b[43mport\u001b[49m\u001b[43m,\u001b[49m\u001b[43m \u001b[49m\u001b[43mfamily\u001b[49m\u001b[43m,\u001b[49m\u001b[43m \u001b[49m\u001b[43msocket\u001b[49m\u001b[38;5;241;43m.\u001b[39;49m\u001b[43mSOCK_STREAM\u001b[49m\u001b[43m)\u001b[49m:\n\u001b[1;32m     61\u001b[0m     af, socktype, proto, canonname, sa \u001b[38;5;241m=\u001b[39m res\n",
      "File \u001b[0;32m/usr/lib/python3.12/socket.py:963\u001b[0m, in \u001b[0;36mgetaddrinfo\u001b[0;34m(host, port, family, type, proto, flags)\u001b[0m\n\u001b[1;32m    962\u001b[0m addrlist \u001b[38;5;241m=\u001b[39m []\n\u001b[0;32m--> 963\u001b[0m \u001b[38;5;28;01mfor\u001b[39;00m res \u001b[38;5;129;01min\u001b[39;00m \u001b[43m_socket\u001b[49m\u001b[38;5;241;43m.\u001b[39;49m\u001b[43mgetaddrinfo\u001b[49m\u001b[43m(\u001b[49m\u001b[43mhost\u001b[49m\u001b[43m,\u001b[49m\u001b[43m \u001b[49m\u001b[43mport\u001b[49m\u001b[43m,\u001b[49m\u001b[43m \u001b[49m\u001b[43mfamily\u001b[49m\u001b[43m,\u001b[49m\u001b[43m \u001b[49m\u001b[38;5;28;43mtype\u001b[39;49m\u001b[43m,\u001b[49m\u001b[43m \u001b[49m\u001b[43mproto\u001b[49m\u001b[43m,\u001b[49m\u001b[43m \u001b[49m\u001b[43mflags\u001b[49m\u001b[43m)\u001b[49m:\n\u001b[1;32m    964\u001b[0m     af, socktype, proto, canonname, sa \u001b[38;5;241m=\u001b[39m res\n",
      "\u001b[0;31mgaierror\u001b[0m: [Errno -2] Name or service not known",
      "\nThe above exception was the direct cause of the following exception:\n",
      "\u001b[0;31mNameResolutionError\u001b[0m                       Traceback (most recent call last)",
      "File \u001b[0;32m/usr/lib/python3/dist-packages/urllib3/connectionpool.py:791\u001b[0m, in \u001b[0;36mHTTPConnectionPool.urlopen\u001b[0;34m(self, method, url, body, headers, retries, redirect, assert_same_host, timeout, pool_timeout, release_conn, chunked, body_pos, preload_content, decode_content, **response_kw)\u001b[0m\n\u001b[1;32m    790\u001b[0m \u001b[38;5;66;03m# Make the request on the HTTPConnection object\u001b[39;00m\n\u001b[0;32m--> 791\u001b[0m response \u001b[38;5;241m=\u001b[39m \u001b[38;5;28;43mself\u001b[39;49m\u001b[38;5;241;43m.\u001b[39;49m\u001b[43m_make_request\u001b[49m\u001b[43m(\u001b[49m\n\u001b[1;32m    792\u001b[0m \u001b[43m    \u001b[49m\u001b[43mconn\u001b[49m\u001b[43m,\u001b[49m\n\u001b[1;32m    793\u001b[0m \u001b[43m    \u001b[49m\u001b[43mmethod\u001b[49m\u001b[43m,\u001b[49m\n\u001b[1;32m    794\u001b[0m \u001b[43m    \u001b[49m\u001b[43murl\u001b[49m\u001b[43m,\u001b[49m\n\u001b[1;32m    795\u001b[0m \u001b[43m    \u001b[49m\u001b[43mtimeout\u001b[49m\u001b[38;5;241;43m=\u001b[39;49m\u001b[43mtimeout_obj\u001b[49m\u001b[43m,\u001b[49m\n\u001b[1;32m    796\u001b[0m \u001b[43m    \u001b[49m\u001b[43mbody\u001b[49m\u001b[38;5;241;43m=\u001b[39;49m\u001b[43mbody\u001b[49m\u001b[43m,\u001b[49m\n\u001b[1;32m    797\u001b[0m \u001b[43m    \u001b[49m\u001b[43mheaders\u001b[49m\u001b[38;5;241;43m=\u001b[39;49m\u001b[43mheaders\u001b[49m\u001b[43m,\u001b[49m\n\u001b[1;32m    798\u001b[0m \u001b[43m    \u001b[49m\u001b[43mchunked\u001b[49m\u001b[38;5;241;43m=\u001b[39;49m\u001b[43mchunked\u001b[49m\u001b[43m,\u001b[49m\n\u001b[1;32m    799\u001b[0m \u001b[43m    \u001b[49m\u001b[43mretries\u001b[49m\u001b[38;5;241;43m=\u001b[39;49m\u001b[43mretries\u001b[49m\u001b[43m,\u001b[49m\n\u001b[1;32m    800\u001b[0m \u001b[43m    \u001b[49m\u001b[43mresponse_conn\u001b[49m\u001b[38;5;241;43m=\u001b[39;49m\u001b[43mresponse_conn\u001b[49m\u001b[43m,\u001b[49m\n\u001b[1;32m    801\u001b[0m \u001b[43m    \u001b[49m\u001b[43mpreload_content\u001b[49m\u001b[38;5;241;43m=\u001b[39;49m\u001b[43mpreload_content\u001b[49m\u001b[43m,\u001b[49m\n\u001b[1;32m    802\u001b[0m \u001b[43m    \u001b[49m\u001b[43mdecode_content\u001b[49m\u001b[38;5;241;43m=\u001b[39;49m\u001b[43mdecode_content\u001b[49m\u001b[43m,\u001b[49m\n\u001b[1;32m    803\u001b[0m \u001b[43m    \u001b[49m\u001b[38;5;241;43m*\u001b[39;49m\u001b[38;5;241;43m*\u001b[39;49m\u001b[43mresponse_kw\u001b[49m\u001b[43m,\u001b[49m\n\u001b[1;32m    804\u001b[0m \u001b[43m\u001b[49m\u001b[43m)\u001b[49m\n\u001b[1;32m    806\u001b[0m \u001b[38;5;66;03m# Everything went great!\u001b[39;00m\n",
      "File \u001b[0;32m/usr/lib/python3/dist-packages/urllib3/connectionpool.py:497\u001b[0m, in \u001b[0;36mHTTPConnectionPool._make_request\u001b[0;34m(self, conn, method, url, body, headers, retries, timeout, chunked, response_conn, preload_content, decode_content, enforce_content_length)\u001b[0m\n\u001b[1;32m    496\u001b[0m \u001b[38;5;28;01mtry\u001b[39;00m:\n\u001b[0;32m--> 497\u001b[0m     \u001b[43mconn\u001b[49m\u001b[38;5;241;43m.\u001b[39;49m\u001b[43mrequest\u001b[49m\u001b[43m(\u001b[49m\n\u001b[1;32m    498\u001b[0m \u001b[43m        \u001b[49m\u001b[43mmethod\u001b[49m\u001b[43m,\u001b[49m\n\u001b[1;32m    499\u001b[0m \u001b[43m        \u001b[49m\u001b[43murl\u001b[49m\u001b[43m,\u001b[49m\n\u001b[1;32m    500\u001b[0m \u001b[43m        \u001b[49m\u001b[43mbody\u001b[49m\u001b[38;5;241;43m=\u001b[39;49m\u001b[43mbody\u001b[49m\u001b[43m,\u001b[49m\n\u001b[1;32m    501\u001b[0m \u001b[43m        \u001b[49m\u001b[43mheaders\u001b[49m\u001b[38;5;241;43m=\u001b[39;49m\u001b[43mheaders\u001b[49m\u001b[43m,\u001b[49m\n\u001b[1;32m    502\u001b[0m \u001b[43m        \u001b[49m\u001b[43mchunked\u001b[49m\u001b[38;5;241;43m=\u001b[39;49m\u001b[43mchunked\u001b[49m\u001b[43m,\u001b[49m\n\u001b[1;32m    503\u001b[0m \u001b[43m        \u001b[49m\u001b[43mpreload_content\u001b[49m\u001b[38;5;241;43m=\u001b[39;49m\u001b[43mpreload_content\u001b[49m\u001b[43m,\u001b[49m\n\u001b[1;32m    504\u001b[0m \u001b[43m        \u001b[49m\u001b[43mdecode_content\u001b[49m\u001b[38;5;241;43m=\u001b[39;49m\u001b[43mdecode_content\u001b[49m\u001b[43m,\u001b[49m\n\u001b[1;32m    505\u001b[0m \u001b[43m        \u001b[49m\u001b[43menforce_content_length\u001b[49m\u001b[38;5;241;43m=\u001b[39;49m\u001b[43menforce_content_length\u001b[49m\u001b[43m,\u001b[49m\n\u001b[1;32m    506\u001b[0m \u001b[43m    \u001b[49m\u001b[43m)\u001b[49m\n\u001b[1;32m    508\u001b[0m \u001b[38;5;66;03m# We are swallowing BrokenPipeError (errno.EPIPE) since the server is\u001b[39;00m\n\u001b[1;32m    509\u001b[0m \u001b[38;5;66;03m# legitimately able to close the connection after sending a valid response.\u001b[39;00m\n\u001b[1;32m    510\u001b[0m \u001b[38;5;66;03m# With this behaviour, the received response is still readable.\u001b[39;00m\n",
      "File \u001b[0;32m/usr/lib/python3/dist-packages/urllib3/connection.py:395\u001b[0m, in \u001b[0;36mHTTPConnection.request\u001b[0;34m(self, method, url, body, headers, chunked, preload_content, decode_content, enforce_content_length)\u001b[0m\n\u001b[1;32m    394\u001b[0m     \u001b[38;5;28mself\u001b[39m\u001b[38;5;241m.\u001b[39mputheader(header, value)\n\u001b[0;32m--> 395\u001b[0m \u001b[38;5;28;43mself\u001b[39;49m\u001b[38;5;241;43m.\u001b[39;49m\u001b[43mendheaders\u001b[49m\u001b[43m(\u001b[49m\u001b[43m)\u001b[49m\n\u001b[1;32m    397\u001b[0m \u001b[38;5;66;03m# If we're given a body we start sending that in chunks.\u001b[39;00m\n",
      "File \u001b[0;32m/usr/lib/python3.12/http/client.py:1331\u001b[0m, in \u001b[0;36mHTTPConnection.endheaders\u001b[0;34m(self, message_body, encode_chunked)\u001b[0m\n\u001b[1;32m   1330\u001b[0m     \u001b[38;5;28;01mraise\u001b[39;00m CannotSendHeader()\n\u001b[0;32m-> 1331\u001b[0m \u001b[38;5;28;43mself\u001b[39;49m\u001b[38;5;241;43m.\u001b[39;49m\u001b[43m_send_output\u001b[49m\u001b[43m(\u001b[49m\u001b[43mmessage_body\u001b[49m\u001b[43m,\u001b[49m\u001b[43m \u001b[49m\u001b[43mencode_chunked\u001b[49m\u001b[38;5;241;43m=\u001b[39;49m\u001b[43mencode_chunked\u001b[49m\u001b[43m)\u001b[49m\n",
      "File \u001b[0;32m/usr/lib/python3.12/http/client.py:1091\u001b[0m, in \u001b[0;36mHTTPConnection._send_output\u001b[0;34m(self, message_body, encode_chunked)\u001b[0m\n\u001b[1;32m   1090\u001b[0m \u001b[38;5;28;01mdel\u001b[39;00m \u001b[38;5;28mself\u001b[39m\u001b[38;5;241m.\u001b[39m_buffer[:]\n\u001b[0;32m-> 1091\u001b[0m \u001b[38;5;28;43mself\u001b[39;49m\u001b[38;5;241;43m.\u001b[39;49m\u001b[43msend\u001b[49m\u001b[43m(\u001b[49m\u001b[43mmsg\u001b[49m\u001b[43m)\u001b[49m\n\u001b[1;32m   1093\u001b[0m \u001b[38;5;28;01mif\u001b[39;00m message_body \u001b[38;5;129;01mis\u001b[39;00m \u001b[38;5;129;01mnot\u001b[39;00m \u001b[38;5;28;01mNone\u001b[39;00m:\n\u001b[1;32m   1094\u001b[0m \n\u001b[1;32m   1095\u001b[0m     \u001b[38;5;66;03m# create a consistent interface to message_body\u001b[39;00m\n",
      "File \u001b[0;32m/usr/lib/python3.12/http/client.py:1035\u001b[0m, in \u001b[0;36mHTTPConnection.send\u001b[0;34m(self, data)\u001b[0m\n\u001b[1;32m   1034\u001b[0m \u001b[38;5;28;01mif\u001b[39;00m \u001b[38;5;28mself\u001b[39m\u001b[38;5;241m.\u001b[39mauto_open:\n\u001b[0;32m-> 1035\u001b[0m     \u001b[38;5;28;43mself\u001b[39;49m\u001b[38;5;241;43m.\u001b[39;49m\u001b[43mconnect\u001b[49m\u001b[43m(\u001b[49m\u001b[43m)\u001b[49m\n\u001b[1;32m   1036\u001b[0m \u001b[38;5;28;01melse\u001b[39;00m:\n",
      "File \u001b[0;32m/usr/lib/python3/dist-packages/urllib3/connection.py:243\u001b[0m, in \u001b[0;36mHTTPConnection.connect\u001b[0;34m(self)\u001b[0m\n\u001b[1;32m    242\u001b[0m \u001b[38;5;28;01mdef\u001b[39;00m \u001b[38;5;21mconnect\u001b[39m(\u001b[38;5;28mself\u001b[39m) \u001b[38;5;241m-\u001b[39m\u001b[38;5;241m>\u001b[39m \u001b[38;5;28;01mNone\u001b[39;00m:\n\u001b[0;32m--> 243\u001b[0m     \u001b[38;5;28mself\u001b[39m\u001b[38;5;241m.\u001b[39msock \u001b[38;5;241m=\u001b[39m \u001b[38;5;28;43mself\u001b[39;49m\u001b[38;5;241;43m.\u001b[39;49m\u001b[43m_new_conn\u001b[49m\u001b[43m(\u001b[49m\u001b[43m)\u001b[49m\n\u001b[1;32m    244\u001b[0m     \u001b[38;5;28;01mif\u001b[39;00m \u001b[38;5;28mself\u001b[39m\u001b[38;5;241m.\u001b[39m_tunnel_host:\n\u001b[1;32m    245\u001b[0m         \u001b[38;5;66;03m# If we're tunneling it means we're connected to our proxy.\u001b[39;00m\n",
      "File \u001b[0;32m/usr/lib/python3/dist-packages/urllib3/connection.py:210\u001b[0m, in \u001b[0;36mHTTPConnection._new_conn\u001b[0;34m(self)\u001b[0m\n\u001b[1;32m    209\u001b[0m \u001b[38;5;28;01mexcept\u001b[39;00m socket\u001b[38;5;241m.\u001b[39mgaierror \u001b[38;5;28;01mas\u001b[39;00m e:\n\u001b[0;32m--> 210\u001b[0m     \u001b[38;5;28;01mraise\u001b[39;00m NameResolutionError(\u001b[38;5;28mself\u001b[39m\u001b[38;5;241m.\u001b[39mhost, \u001b[38;5;28mself\u001b[39m, e) \u001b[38;5;28;01mfrom\u001b[39;00m \u001b[38;5;21;01me\u001b[39;00m\n\u001b[1;32m    211\u001b[0m \u001b[38;5;28;01mexcept\u001b[39;00m SocketTimeout \u001b[38;5;28;01mas\u001b[39;00m e:\n",
      "\u001b[0;31mNameResolutionError\u001b[0m: <urllib3.connection.HTTPConnection object at 0x7f6b67355e80>: Failed to resolve 'api.lopi.ca' ([Errno -2] Name or service not known)",
      "\nThe above exception was the direct cause of the following exception:\n",
      "\u001b[0;31mMaxRetryError\u001b[0m                             Traceback (most recent call last)",
      "File \u001b[0;32m/usr/lib/python3/dist-packages/requests/adapters.py:486\u001b[0m, in \u001b[0;36mHTTPAdapter.send\u001b[0;34m(self, request, stream, timeout, verify, cert, proxies)\u001b[0m\n\u001b[1;32m    485\u001b[0m \u001b[38;5;28;01mtry\u001b[39;00m:\n\u001b[0;32m--> 486\u001b[0m     resp \u001b[38;5;241m=\u001b[39m \u001b[43mconn\u001b[49m\u001b[38;5;241;43m.\u001b[39;49m\u001b[43murlopen\u001b[49m\u001b[43m(\u001b[49m\n\u001b[1;32m    487\u001b[0m \u001b[43m        \u001b[49m\u001b[43mmethod\u001b[49m\u001b[38;5;241;43m=\u001b[39;49m\u001b[43mrequest\u001b[49m\u001b[38;5;241;43m.\u001b[39;49m\u001b[43mmethod\u001b[49m\u001b[43m,\u001b[49m\n\u001b[1;32m    488\u001b[0m \u001b[43m        \u001b[49m\u001b[43murl\u001b[49m\u001b[38;5;241;43m=\u001b[39;49m\u001b[43murl\u001b[49m\u001b[43m,\u001b[49m\n\u001b[1;32m    489\u001b[0m \u001b[43m        \u001b[49m\u001b[43mbody\u001b[49m\u001b[38;5;241;43m=\u001b[39;49m\u001b[43mrequest\u001b[49m\u001b[38;5;241;43m.\u001b[39;49m\u001b[43mbody\u001b[49m\u001b[43m,\u001b[49m\n\u001b[1;32m    490\u001b[0m \u001b[43m        \u001b[49m\u001b[43mheaders\u001b[49m\u001b[38;5;241;43m=\u001b[39;49m\u001b[43mrequest\u001b[49m\u001b[38;5;241;43m.\u001b[39;49m\u001b[43mheaders\u001b[49m\u001b[43m,\u001b[49m\n\u001b[1;32m    491\u001b[0m \u001b[43m        \u001b[49m\u001b[43mredirect\u001b[49m\u001b[38;5;241;43m=\u001b[39;49m\u001b[38;5;28;43;01mFalse\u001b[39;49;00m\u001b[43m,\u001b[49m\n\u001b[1;32m    492\u001b[0m \u001b[43m        \u001b[49m\u001b[43massert_same_host\u001b[49m\u001b[38;5;241;43m=\u001b[39;49m\u001b[38;5;28;43;01mFalse\u001b[39;49;00m\u001b[43m,\u001b[49m\n\u001b[1;32m    493\u001b[0m \u001b[43m        \u001b[49m\u001b[43mpreload_content\u001b[49m\u001b[38;5;241;43m=\u001b[39;49m\u001b[38;5;28;43;01mFalse\u001b[39;49;00m\u001b[43m,\u001b[49m\n\u001b[1;32m    494\u001b[0m \u001b[43m        \u001b[49m\u001b[43mdecode_content\u001b[49m\u001b[38;5;241;43m=\u001b[39;49m\u001b[38;5;28;43;01mFalse\u001b[39;49;00m\u001b[43m,\u001b[49m\n\u001b[1;32m    495\u001b[0m \u001b[43m        \u001b[49m\u001b[43mretries\u001b[49m\u001b[38;5;241;43m=\u001b[39;49m\u001b[38;5;28;43mself\u001b[39;49m\u001b[38;5;241;43m.\u001b[39;49m\u001b[43mmax_retries\u001b[49m\u001b[43m,\u001b[49m\n\u001b[1;32m    496\u001b[0m \u001b[43m        \u001b[49m\u001b[43mtimeout\u001b[49m\u001b[38;5;241;43m=\u001b[39;49m\u001b[43mtimeout\u001b[49m\u001b[43m,\u001b[49m\n\u001b[1;32m    497\u001b[0m \u001b[43m        \u001b[49m\u001b[43mchunked\u001b[49m\u001b[38;5;241;43m=\u001b[39;49m\u001b[43mchunked\u001b[49m\u001b[43m,\u001b[49m\n\u001b[1;32m    498\u001b[0m \u001b[43m    \u001b[49m\u001b[43m)\u001b[49m\n\u001b[1;32m    500\u001b[0m \u001b[38;5;28;01mexcept\u001b[39;00m (ProtocolError, \u001b[38;5;167;01mOSError\u001b[39;00m) \u001b[38;5;28;01mas\u001b[39;00m err:\n",
      "File \u001b[0;32m/usr/lib/python3/dist-packages/urllib3/connectionpool.py:845\u001b[0m, in \u001b[0;36mHTTPConnectionPool.urlopen\u001b[0;34m(self, method, url, body, headers, retries, redirect, assert_same_host, timeout, pool_timeout, release_conn, chunked, body_pos, preload_content, decode_content, **response_kw)\u001b[0m\n\u001b[1;32m    843\u001b[0m     new_e \u001b[38;5;241m=\u001b[39m ProtocolError(\u001b[38;5;124m\"\u001b[39m\u001b[38;5;124mConnection aborted.\u001b[39m\u001b[38;5;124m\"\u001b[39m, new_e)\n\u001b[0;32m--> 845\u001b[0m retries \u001b[38;5;241m=\u001b[39m \u001b[43mretries\u001b[49m\u001b[38;5;241;43m.\u001b[39;49m\u001b[43mincrement\u001b[49m\u001b[43m(\u001b[49m\n\u001b[1;32m    846\u001b[0m \u001b[43m    \u001b[49m\u001b[43mmethod\u001b[49m\u001b[43m,\u001b[49m\u001b[43m \u001b[49m\u001b[43murl\u001b[49m\u001b[43m,\u001b[49m\u001b[43m \u001b[49m\u001b[43merror\u001b[49m\u001b[38;5;241;43m=\u001b[39;49m\u001b[43mnew_e\u001b[49m\u001b[43m,\u001b[49m\u001b[43m \u001b[49m\u001b[43m_pool\u001b[49m\u001b[38;5;241;43m=\u001b[39;49m\u001b[38;5;28;43mself\u001b[39;49m\u001b[43m,\u001b[49m\u001b[43m \u001b[49m\u001b[43m_stacktrace\u001b[49m\u001b[38;5;241;43m=\u001b[39;49m\u001b[43msys\u001b[49m\u001b[38;5;241;43m.\u001b[39;49m\u001b[43mexc_info\u001b[49m\u001b[43m(\u001b[49m\u001b[43m)\u001b[49m\u001b[43m[\u001b[49m\u001b[38;5;241;43m2\u001b[39;49m\u001b[43m]\u001b[49m\n\u001b[1;32m    847\u001b[0m \u001b[43m\u001b[49m\u001b[43m)\u001b[49m\n\u001b[1;32m    848\u001b[0m retries\u001b[38;5;241m.\u001b[39msleep()\n",
      "File \u001b[0;32m/usr/lib/python3/dist-packages/urllib3/util/retry.py:517\u001b[0m, in \u001b[0;36mRetry.increment\u001b[0;34m(self, method, url, response, error, _pool, _stacktrace)\u001b[0m\n\u001b[1;32m    516\u001b[0m     reason \u001b[38;5;241m=\u001b[39m error \u001b[38;5;129;01mor\u001b[39;00m ResponseError(cause)\n\u001b[0;32m--> 517\u001b[0m     \u001b[38;5;28;01mraise\u001b[39;00m MaxRetryError(_pool, url, reason) \u001b[38;5;28;01mfrom\u001b[39;00m \u001b[38;5;21;01mreason\u001b[39;00m  \u001b[38;5;66;03m# type: ignore[arg-type]\u001b[39;00m\n\u001b[1;32m    519\u001b[0m log\u001b[38;5;241m.\u001b[39mdebug(\u001b[38;5;124m\"\u001b[39m\u001b[38;5;124mIncremented Retry for (url=\u001b[39m\u001b[38;5;124m'\u001b[39m\u001b[38;5;132;01m%s\u001b[39;00m\u001b[38;5;124m'\u001b[39m\u001b[38;5;124m): \u001b[39m\u001b[38;5;132;01m%r\u001b[39;00m\u001b[38;5;124m\"\u001b[39m, url, new_retry)\n",
      "\u001b[0;31mMaxRetryError\u001b[0m: HTTPConnectionPool(host='api.lopi.ca', port=80): Max retries exceeded with url: /ergast/f1/2024/22/laps.json?offset=0&limit=100 (Caused by NameResolutionError(\"<urllib3.connection.HTTPConnection object at 0x7f6b67355e80>: Failed to resolve 'api.lopi.ca' ([Errno -2] Name or service not known)\"))",
      "\nDuring handling of the above exception, another exception occurred:\n",
      "\u001b[0;31mConnectionError\u001b[0m                           Traceback (most recent call last)",
      "Cell \u001b[0;32mIn[61], line 1\u001b[0m\n\u001b[0;32m----> 1\u001b[0m \u001b[43mget_data\u001b[49m\u001b[43m(\u001b[49m\u001b[38;5;241;43m22\u001b[39;49m\u001b[43m,\u001b[49m\u001b[43m \u001b[49m\u001b[38;5;241;43m2024\u001b[39;49m\u001b[43m)\u001b[49m\n",
      "Cell \u001b[0;32mIn[57], line 12\u001b[0m, in \u001b[0;36mget_data\u001b[0;34m(round, year)\u001b[0m\n\u001b[1;32m      9\u001b[0m \u001b[38;5;28mprint\u001b[39m(num_laps)\n\u001b[1;32m     10\u001b[0m \u001b[38;5;66;03m#course_length, race_distance = get_race_distance(db_race_name, year)\u001b[39;00m\n\u001b[1;32m     11\u001b[0m \u001b[38;5;66;03m#quali_time = get_quali_time(year, db_race_name, db_driver_name)\u001b[39;00m\n\u001b[0;32m---> 12\u001b[0m race_data \u001b[38;5;241m=\u001b[39m \u001b[43mget_lap_data\u001b[49m\u001b[43m(\u001b[49m\u001b[38;5;28;43mround\u001b[39;49m\u001b[43m,\u001b[49m\u001b[43m \u001b[49m\u001b[43myear\u001b[49m\u001b[43m,\u001b[49m\u001b[43m \u001b[49m\u001b[43mnum_laps\u001b[49m\u001b[43m)\u001b[49m\n\u001b[1;32m     13\u001b[0m write_to_csv(race_data)\n",
      "Cell \u001b[0;32mIn[55], line 10\u001b[0m, in \u001b[0;36mget_lap_data\u001b[0;34m(race, year, laps)\u001b[0m\n\u001b[1;32m      8\u001b[0m \u001b[38;5;28mprint\u001b[39m(\u001b[38;5;124mf\u001b[39m\u001b[38;5;124m\"\u001b[39m\u001b[38;5;124mLap \u001b[39m\u001b[38;5;132;01m{\u001b[39;00mi\u001b[38;5;132;01m}\u001b[39;00m\u001b[38;5;124m\"\u001b[39m)\n\u001b[1;32m      9\u001b[0m url \u001b[38;5;241m=\u001b[39m \u001b[38;5;124mf\u001b[39m\u001b[38;5;124m\"\u001b[39m\u001b[38;5;124mhttp://api.lopi.ca/ergast/f1/\u001b[39m\u001b[38;5;132;01m{\u001b[39;00myear\u001b[38;5;132;01m}\u001b[39;00m\u001b[38;5;124m/\u001b[39m\u001b[38;5;132;01m{\u001b[39;00mrace\u001b[38;5;132;01m}\u001b[39;00m\u001b[38;5;124m/laps.json?offset=\u001b[39m\u001b[38;5;132;01m{\u001b[39;00moffset\u001b[38;5;132;01m}\u001b[39;00m\u001b[38;5;124m&limit=100\u001b[39m\u001b[38;5;124m\"\u001b[39m\n\u001b[0;32m---> 10\u001b[0m response \u001b[38;5;241m=\u001b[39m \u001b[43mrequests\u001b[49m\u001b[38;5;241;43m.\u001b[39;49m\u001b[43mget\u001b[49m\u001b[43m(\u001b[49m\u001b[43murl\u001b[49m\u001b[43m)\u001b[49m\n\u001b[1;32m     12\u001b[0m \u001b[38;5;28;01mif\u001b[39;00m response\u001b[38;5;241m.\u001b[39mstatus_code \u001b[38;5;241m!=\u001b[39m \u001b[38;5;241m200\u001b[39m:\n\u001b[1;32m     13\u001b[0m     \u001b[38;5;28mprint\u001b[39m(\u001b[38;5;124mf\u001b[39m\u001b[38;5;124m\"\u001b[39m\u001b[38;5;124mError: Failed to retrieve data for lap \u001b[39m\u001b[38;5;132;01m{\u001b[39;00mi\u001b[38;5;132;01m}\u001b[39;00m\u001b[38;5;124m\"\u001b[39m)\n",
      "File \u001b[0;32m/usr/lib/python3/dist-packages/requests/api.py:73\u001b[0m, in \u001b[0;36mget\u001b[0;34m(url, params, **kwargs)\u001b[0m\n\u001b[1;32m     62\u001b[0m \u001b[38;5;28;01mdef\u001b[39;00m \u001b[38;5;21mget\u001b[39m(url, params\u001b[38;5;241m=\u001b[39m\u001b[38;5;28;01mNone\u001b[39;00m, \u001b[38;5;241m*\u001b[39m\u001b[38;5;241m*\u001b[39mkwargs):\n\u001b[1;32m     63\u001b[0m \u001b[38;5;250m    \u001b[39m\u001b[38;5;124mr\u001b[39m\u001b[38;5;124;03m\"\"\"Sends a GET request.\u001b[39;00m\n\u001b[1;32m     64\u001b[0m \n\u001b[1;32m     65\u001b[0m \u001b[38;5;124;03m    :param url: URL for the new :class:`Request` object.\u001b[39;00m\n\u001b[0;32m   (...)\u001b[0m\n\u001b[1;32m     70\u001b[0m \u001b[38;5;124;03m    :rtype: requests.Response\u001b[39;00m\n\u001b[1;32m     71\u001b[0m \u001b[38;5;124;03m    \"\"\"\u001b[39;00m\n\u001b[0;32m---> 73\u001b[0m     \u001b[38;5;28;01mreturn\u001b[39;00m \u001b[43mrequest\u001b[49m\u001b[43m(\u001b[49m\u001b[38;5;124;43m\"\u001b[39;49m\u001b[38;5;124;43mget\u001b[39;49m\u001b[38;5;124;43m\"\u001b[39;49m\u001b[43m,\u001b[49m\u001b[43m \u001b[49m\u001b[43murl\u001b[49m\u001b[43m,\u001b[49m\u001b[43m \u001b[49m\u001b[43mparams\u001b[49m\u001b[38;5;241;43m=\u001b[39;49m\u001b[43mparams\u001b[49m\u001b[43m,\u001b[49m\u001b[43m \u001b[49m\u001b[38;5;241;43m*\u001b[39;49m\u001b[38;5;241;43m*\u001b[39;49m\u001b[43mkwargs\u001b[49m\u001b[43m)\u001b[49m\n",
      "File \u001b[0;32m/usr/lib/python3/dist-packages/requests/api.py:59\u001b[0m, in \u001b[0;36mrequest\u001b[0;34m(method, url, **kwargs)\u001b[0m\n\u001b[1;32m     55\u001b[0m \u001b[38;5;66;03m# By using the 'with' statement we are sure the session is closed, thus we\u001b[39;00m\n\u001b[1;32m     56\u001b[0m \u001b[38;5;66;03m# avoid leaving sockets open which can trigger a ResourceWarning in some\u001b[39;00m\n\u001b[1;32m     57\u001b[0m \u001b[38;5;66;03m# cases, and look like a memory leak in others.\u001b[39;00m\n\u001b[1;32m     58\u001b[0m \u001b[38;5;28;01mwith\u001b[39;00m sessions\u001b[38;5;241m.\u001b[39mSession() \u001b[38;5;28;01mas\u001b[39;00m session:\n\u001b[0;32m---> 59\u001b[0m     \u001b[38;5;28;01mreturn\u001b[39;00m \u001b[43msession\u001b[49m\u001b[38;5;241;43m.\u001b[39;49m\u001b[43mrequest\u001b[49m\u001b[43m(\u001b[49m\u001b[43mmethod\u001b[49m\u001b[38;5;241;43m=\u001b[39;49m\u001b[43mmethod\u001b[49m\u001b[43m,\u001b[49m\u001b[43m \u001b[49m\u001b[43murl\u001b[49m\u001b[38;5;241;43m=\u001b[39;49m\u001b[43murl\u001b[49m\u001b[43m,\u001b[49m\u001b[43m \u001b[49m\u001b[38;5;241;43m*\u001b[39;49m\u001b[38;5;241;43m*\u001b[39;49m\u001b[43mkwargs\u001b[49m\u001b[43m)\u001b[49m\n",
      "File \u001b[0;32m/usr/lib/python3/dist-packages/requests/sessions.py:589\u001b[0m, in \u001b[0;36mSession.request\u001b[0;34m(self, method, url, params, data, headers, cookies, files, auth, timeout, allow_redirects, proxies, hooks, stream, verify, cert, json)\u001b[0m\n\u001b[1;32m    584\u001b[0m send_kwargs \u001b[38;5;241m=\u001b[39m {\n\u001b[1;32m    585\u001b[0m     \u001b[38;5;124m\"\u001b[39m\u001b[38;5;124mtimeout\u001b[39m\u001b[38;5;124m\"\u001b[39m: timeout,\n\u001b[1;32m    586\u001b[0m     \u001b[38;5;124m\"\u001b[39m\u001b[38;5;124mallow_redirects\u001b[39m\u001b[38;5;124m\"\u001b[39m: allow_redirects,\n\u001b[1;32m    587\u001b[0m }\n\u001b[1;32m    588\u001b[0m send_kwargs\u001b[38;5;241m.\u001b[39mupdate(settings)\n\u001b[0;32m--> 589\u001b[0m resp \u001b[38;5;241m=\u001b[39m \u001b[38;5;28;43mself\u001b[39;49m\u001b[38;5;241;43m.\u001b[39;49m\u001b[43msend\u001b[49m\u001b[43m(\u001b[49m\u001b[43mprep\u001b[49m\u001b[43m,\u001b[49m\u001b[43m \u001b[49m\u001b[38;5;241;43m*\u001b[39;49m\u001b[38;5;241;43m*\u001b[39;49m\u001b[43msend_kwargs\u001b[49m\u001b[43m)\u001b[49m\n\u001b[1;32m    591\u001b[0m \u001b[38;5;28;01mreturn\u001b[39;00m resp\n",
      "File \u001b[0;32m/usr/lib/python3/dist-packages/requests/sessions.py:703\u001b[0m, in \u001b[0;36mSession.send\u001b[0;34m(self, request, **kwargs)\u001b[0m\n\u001b[1;32m    700\u001b[0m start \u001b[38;5;241m=\u001b[39m preferred_clock()\n\u001b[1;32m    702\u001b[0m \u001b[38;5;66;03m# Send the request\u001b[39;00m\n\u001b[0;32m--> 703\u001b[0m r \u001b[38;5;241m=\u001b[39m \u001b[43madapter\u001b[49m\u001b[38;5;241;43m.\u001b[39;49m\u001b[43msend\u001b[49m\u001b[43m(\u001b[49m\u001b[43mrequest\u001b[49m\u001b[43m,\u001b[49m\u001b[43m \u001b[49m\u001b[38;5;241;43m*\u001b[39;49m\u001b[38;5;241;43m*\u001b[39;49m\u001b[43mkwargs\u001b[49m\u001b[43m)\u001b[49m\n\u001b[1;32m    705\u001b[0m \u001b[38;5;66;03m# Total elapsed time of the request (approximately)\u001b[39;00m\n\u001b[1;32m    706\u001b[0m elapsed \u001b[38;5;241m=\u001b[39m preferred_clock() \u001b[38;5;241m-\u001b[39m start\n",
      "File \u001b[0;32m/usr/lib/python3/dist-packages/requests/adapters.py:519\u001b[0m, in \u001b[0;36mHTTPAdapter.send\u001b[0;34m(self, request, stream, timeout, verify, cert, proxies)\u001b[0m\n\u001b[1;32m    515\u001b[0m     \u001b[38;5;28;01mif\u001b[39;00m \u001b[38;5;28misinstance\u001b[39m(e\u001b[38;5;241m.\u001b[39mreason, _SSLError):\n\u001b[1;32m    516\u001b[0m         \u001b[38;5;66;03m# This branch is for urllib3 v1.22 and later.\u001b[39;00m\n\u001b[1;32m    517\u001b[0m         \u001b[38;5;28;01mraise\u001b[39;00m SSLError(e, request\u001b[38;5;241m=\u001b[39mrequest)\n\u001b[0;32m--> 519\u001b[0m     \u001b[38;5;28;01mraise\u001b[39;00m \u001b[38;5;167;01mConnectionError\u001b[39;00m(e, request\u001b[38;5;241m=\u001b[39mrequest)\n\u001b[1;32m    521\u001b[0m \u001b[38;5;28;01mexcept\u001b[39;00m ClosedPoolError \u001b[38;5;28;01mas\u001b[39;00m e:\n\u001b[1;32m    522\u001b[0m     \u001b[38;5;28;01mraise\u001b[39;00m \u001b[38;5;167;01mConnectionError\u001b[39;00m(e, request\u001b[38;5;241m=\u001b[39mrequest)\n",
      "\u001b[0;31mConnectionError\u001b[0m: HTTPConnectionPool(host='api.lopi.ca', port=80): Max retries exceeded with url: /ergast/f1/2024/22/laps.json?offset=0&limit=100 (Caused by NameResolutionError(\"<urllib3.connection.HTTPConnection object at 0x7f6b67355e80>: Failed to resolve 'api.lopi.ca' ([Errno -2] Name or service not known)\"))"
     ]
    }
   ],
   "source": [
    "get_data(22, 2024)"
   ]
  }
 ],
 "metadata": {
  "kernelspec": {
   "display_name": "venv",
   "language": "python",
   "name": "python3"
  },
  "language_info": {
   "codemirror_mode": {
    "name": "ipython",
    "version": 3
   },
   "file_extension": ".py",
   "mimetype": "text/x-python",
   "name": "python",
   "nbconvert_exporter": "python",
   "pygments_lexer": "ipython3",
   "version": "3.12.3"
  }
 },
 "nbformat": 4,
 "nbformat_minor": 2
}
